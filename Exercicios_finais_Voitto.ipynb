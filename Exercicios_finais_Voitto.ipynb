{
  "nbformat": 4,
  "nbformat_minor": 0,
  "metadata": {
    "colab": {
      "provenance": [],
      "include_colab_link": true
    },
    "kernelspec": {
      "name": "python3",
      "display_name": "Python 3"
    }
  },
  "cells": [
    {
      "cell_type": "markdown",
      "metadata": {
        "id": "view-in-github",
        "colab_type": "text"
      },
      "source": [
        "<a href=\"https://colab.research.google.com/github/thaisbarras/notebooks_exercicios/blob/main/Exercicios_finais_Voitto.ipynb\" target=\"_parent\"><img src=\"https://colab.research.google.com/assets/colab-badge.svg\" alt=\"Open In Colab\"/></a>"
      ]
    },
    {
      "cell_type": "markdown",
      "metadata": {
        "id": "N3WgEsqrZup1"
      },
      "source": [
        "<h1><center>Python Intermediário para Análise de Dados</center></h1>\n",
        "<h2><center>Aplicando e Adquirindo conhecimentos</center></h2>"
      ]
    },
    {
      "cell_type": "markdown",
      "metadata": {
        "id": "ZB6_Dn3-b47H"
      },
      "source": [
        "![](https://drive.google.com/uc?export=view&id=1qCH-jlzKK1aFaTBpiTHN4qxTFrCVs720) \n"
      ]
    },
    {
      "cell_type": "markdown",
      "metadata": {
        "id": "Quk0nQ0bcJfq"
      },
      "source": [
        "<center>\n",
        "<h6>\n",
        "O objetivo desse material é aplicar o que aprendemos ao longo do curso em um projeto final, em que você possa resolver as questões propostas e tirar suas dúvidas das questões finais nas aulas gravadas. Recomendamos que tente fazer essa parte antes de assistir às aulas, será um grande passo para seu aprendizado, aproveite!\n",
        "<h6>\n",
        "<center>"
      ]
    },
    {
      "cell_type": "markdown",
      "metadata": {
        "id": "yTc4hIVLdBED"
      },
      "source": [
        "## Exercício 1: Funções, iteradores e iteráveis"
      ]
    },
    {
      "cell_type": "markdown",
      "metadata": {
        "id": "zHjIVkBGdUab"
      },
      "source": [
        "### Questão 1"
      ]
    },
    {
      "cell_type": "markdown",
      "metadata": {
        "id": "YxLeB0kae1pw"
      },
      "source": [
        "a) A nova empresa **Varejo Online Topa Tudo** aprensenta um grande problema nos preços dos produtos. Ao pesquisarmos os preços da concorrência vimos que os eletrodomésticos são muito mais baratos do que na Topa Tudo. Com o intuito de otimizar a pesquisa de preços nas concorrentes, você foi contratado para criar um programa que receba os preços de várias lojas e retorne a média e o menor preço encontrado. Para isso, você deve criar uma função *encontra_preços()* que recebe o nome do produto e todos os preços encontrados e, depois, mostra quais foram os preços encontrados, o menor deles e a média de todos. "
      ]
    },
    {
      "cell_type": "code",
      "metadata": {
        "id": "MeDzOZ2QyO8S"
      },
      "source": [
        "def encontra_precos(produto, *preco):\n",
        "  print(f\"Produto: {produto}\")\n",
        "  lista = []\n",
        "  for i in preco:\n",
        "    print(f\"Preço: {i}\")\n",
        "    lista.append(i)\n",
        "  print(f\"O menor preço é: {min(preco)}\")\n",
        "  media = sum(lista)/len(lista)\n",
        "  print(f\"A media de preços de {produto} é {media}\")"
      ],
      "execution_count": 1,
      "outputs": []
    },
    {
      "cell_type": "code",
      "metadata": {
        "id": "K7Y6_rRp4_EV",
        "colab": {
          "base_uri": "https://localhost:8080/"
        },
        "outputId": "660d36be-1bef-40a8-be70-a964ab215a11"
      },
      "source": [
        "encontra_precos(\"Galaxy Note 10 Lite\", 2000, 2200, 3000, 1500)"
      ],
      "execution_count": 2,
      "outputs": [
        {
          "output_type": "stream",
          "name": "stdout",
          "text": [
            "Produto: Galaxy Note 10 Lite\n",
            "Preço: 2000\n",
            "Preço: 2200\n",
            "Preço: 3000\n",
            "Preço: 1500\n",
            "O menor preço é: 1500\n",
            "A media de preços de Galaxy Note 10 Lite é 2175.0\n"
          ]
        }
      ]
    },
    {
      "cell_type": "markdown",
      "metadata": {
        "id": "QP2QVtb8i65r"
      },
      "source": [
        "b) A Topa Tudo adorou a função criada e pediu para fazer uma melhora que ajudará, ainda mais, a entender como melhorar os preços dos produtos. Para isso você deve criar uma outra função *melhor_preco_loja()* que recebe o nome do produto e a relação loja: preço do produto, com o intuito de ver qual a loja com o melhor preço e analisar como essa loja consegue um preço tão em conta. Em seguida, você deve mostrar na tela qual é a loja do menor preço."
      ]
    },
    {
      "cell_type": "code",
      "metadata": {
        "id": "dFJuUWGHi5mM"
      },
      "source": [
        "def melhor_preco_loja(produto, **kwargs):\n",
        "  print(f\"Produto: {produto}\")\n",
        "  for i, j in zip(kwargs.keys(), kwargs.values()):\n",
        "    print(f\"Loja {i} - Preço {j}\")\n",
        "  ordenado = sorted(kwargs.items(), key=lambda x: x[1])\n",
        "  print(f\"A loja e o menor preço encontrado foi {ordenado[0]}\")\n"
      ],
      "execution_count": 3,
      "outputs": []
    },
    {
      "cell_type": "code",
      "metadata": {
        "id": "QkxV6sL1lTYT",
        "colab": {
          "base_uri": "https://localhost:8080/"
        },
        "outputId": "aee10f3a-af87-48ff-c5a3-1310f61626a7"
      },
      "source": [
        "melhor_preco_loja(\"Jaqueta\", magazineluiza=100, Renner=95, youcom=89.90, cea=109.90)"
      ],
      "execution_count": 4,
      "outputs": [
        {
          "output_type": "stream",
          "name": "stdout",
          "text": [
            "Produto: Jaqueta\n",
            "Loja magazineluiza - Preço 100\n",
            "Loja Renner - Preço 95\n",
            "Loja youcom - Preço 89.9\n",
            "Loja cea - Preço 109.9\n",
            "A loja e o menor preço encontrado foi ('youcom', 89.9)\n"
          ]
        }
      ]
    },
    {
      "cell_type": "markdown",
      "metadata": {
        "id": "jHv7qR4g9WI3"
      },
      "source": [
        "### Questão 2: "
      ]
    },
    {
      "cell_type": "markdown",
      "metadata": {
        "id": "D8tDgnpZ9aq7"
      },
      "source": [
        "a) O seu gerente de projetos da **Topa Tudo** está tentando implementar uma promoção para cobrir todos os preços da concorrência e pediu para que você a implementasse. O objetivo dele é criar um programa que, com base nos preços obtidos das concorrentes, aplique um desconto de 5% em cada preço encontrado e veja qual o menor preço para decidir por quanto a **Topa Tudo** venderá o produto. Se o preço da sua loja já for menor que o menor valor obtido com o desconto, você manterá o preço, caso contrário, você deve alterar o preço para cobrir o valor da concorrência. \n"
      ]
    },
    {
      "cell_type": "markdown",
      "metadata": {
        "id": "Ujr1O8-nBo2J"
      },
      "source": [
        "<center><h7>Preços Notebook Topa Tudo 2021 atual: 3885.75<h7> <center>\n",
        "\n",
        "<center> Lojas Concorrentes:  [3399.99, 3311.08, 3799, 3899.90, 4988.78, 4999.90, 3145.53] <center>"
      ]
    },
    {
      "cell_type": "code",
      "metadata": {
        "id": "AiIWGv6h9a8q"
      },
      "source": [
        "def cobre_oferta(preco_conc, preco_atual):\n",
        "  desconto = map(lambda x: round(x - 0.05*x, 2), preco_conc)\n",
        "  desconto = list(desconto)\n",
        "  print(f\"Após os descontos de 5% os precos são: {desconto}\")\n",
        "  menor_valor = min(desconto)\n",
        "  if menor_valor < preco_atual:\n",
        "    preco_atual = menor_valor\n",
        "  return preco_atual"
      ],
      "execution_count": 5,
      "outputs": []
    },
    {
      "cell_type": "code",
      "metadata": {
        "id": "V9wX8qGhGO5M",
        "colab": {
          "base_uri": "https://localhost:8080/"
        },
        "outputId": "5e341264-5b36-4390-a40d-b069175fca1d"
      },
      "source": [
        "lojas_concorrentes =  [3399.99, 3311.08, 3799, 3899.90, 4988.78, 4999.90, 3145.53]\n",
        "preco_topa_tudo = 3885.75\n",
        "\n",
        "print(f\"Preço inicial do Notebook na Topa tudo é de {preco_topa_tudo}\")\n",
        "preco = cobre_oferta(lojas_concorrentes, preco_topa_tudo)\n",
        "print(f\"Preço atual do Notebook na Topa Tudo: {preco}\")"
      ],
      "execution_count": 6,
      "outputs": [
        {
          "output_type": "stream",
          "name": "stdout",
          "text": [
            "Preço inicial do Notebook na Topa tudo é de 3885.75\n",
            "Após os descontos de 5% os precos são: [3229.99, 3145.53, 3609.05, 3704.91, 4739.34, 4749.9, 2988.25]\n",
            "Preço atual do Notebook na Topa Tudo: 2988.25\n"
          ]
        }
      ]
    },
    {
      "cell_type": "markdown",
      "metadata": {
        "id": "F_ecBZ_bAHIZ"
      },
      "source": [
        "b) Outra ideia que o gerente lhe pediu para implementar é filtrar apenas as lojas que vendem a um preço menor ou igual a **Topa Tudo** antes de aplicar o deconto  de 5%. O intuito é descobrir quantas lojas vendiam mais barato e devem ter o seu valor coberto."
      ]
    },
    {
      "cell_type": "code",
      "metadata": {
        "id": "l_D85is99bS0",
        "colab": {
          "base_uri": "https://localhost:8080/"
        },
        "outputId": "1a60faeb-c2a5-4707-8350-f7d5755efbcc"
      },
      "source": [
        "preco_filtrado = filter(lambda x: x <= preco_topa_tudo, lojas_concorrentes)\n",
        "qtd_lojas_preco_abaixo = len(list(preco_filtrado))\n",
        "print(preco_filtrado)\n",
        "print(qtd_lojas_preco_abaixo)\n",
        "print(f\"A quantidade de lojas que tem preços menos que a Topa TUdo em notebooks são {qtd_lojas_preco_abaixo}\")\n"
      ],
      "execution_count": 7,
      "outputs": [
        {
          "output_type": "stream",
          "name": "stdout",
          "text": [
            "<filter object at 0x7f48cf26aa40>\n",
            "4\n",
            "A quantidade de lojas que tem preços menos que a Topa TUdo em notebooks são 4\n"
          ]
        }
      ]
    },
    {
      "cell_type": "markdown",
      "metadata": {
        "id": "V-3sCYvRm98z"
      },
      "source": [
        "## Exercício 2: Orientação a Objetos"
      ]
    },
    {
      "cell_type": "markdown",
      "metadata": {
        "id": "L-PVaBw5nL79"
      },
      "source": [
        "O banco **VoittoBank** nos últimos anos se tornou uma referência nacional graças a seus diversos produtos que atendem à população. Com isso, o númerio de funcionários cresceu bastante e foi necessaria a criação de um sistema para gerenciá-los. Você foi contratado para criar um modelo de sistema de gerenciamento de gerentes e clientes do **VoittoBank** usando conceitos de orientação a objetos. \\\\\n",
        "O seu sistema deve seguir o seguinte diagrama:"
      ]
    },
    {
      "cell_type": "markdown",
      "metadata": {
        "id": "eLic628PtppB"
      },
      "source": [
        "![](https://drive.google.com/uc?export=view&id=19JpvS0LgWBIcsUsYmXon-70ggfzD9Q3p) \n"
      ]
    },
    {
      "cell_type": "markdown",
      "metadata": {
        "id": "Lv8an01o1gJy"
      },
      "source": [
        "Nesse modelo, a classe pessoa deve ser criada como uma classe abstrata. Além disso as funções das classes devem seguir a seguinte ideia:\n",
        "\n",
        "* A classe Pessoa deverá ter o método abstrato que será, posteriormente, implementado nas classes Gerente e Cliente;\n",
        "\n",
        "* O método *troca_senha* da classe Gerente será usado para o gerente mudar a senha de um cliente. Para isso ele recebe como parâmetros a *senhaAntiga* e a *novaSenha*. Se a senha antiga for validada, então deve-se alterar a senha do cliente, caso contrário imprima na tela que a senha está incorreta;\n",
        "\n",
        "* O método privado *__valida_senha* da classe Cliente é usada para verificar se a senha do cliente está correta ou não. Já os métodos *verifica_saldo* e *saca_dinheiro* devem, respctivamente, checar o saldo disponível do cliente e retirar o dinheiro desejado da conta;\n",
        "\n",
        "* Por último, os métodos *deposito* e *contatar_gerente* devem, respctivamente, depositar o valor especificado na conta informada e informar os dados do gerente do cliente."
      ]
    },
    {
      "cell_type": "markdown",
      "metadata": {
        "id": "Qwp7TGOc5fio"
      },
      "source": [
        "### Questão 1: "
      ]
    },
    {
      "cell_type": "markdown",
      "metadata": {
        "id": "MZgcmgzz5wCo"
      },
      "source": [
        "Faça apenas a modelagem do sistema"
      ]
    },
    {
      "cell_type": "code",
      "metadata": {
        "id": "qYQtSX0sltQc"
      },
      "source": [
        "import abc\n",
        "\n",
        "#Classe abstrata\n",
        "class Pessoa(metaclass=abc.ABCMeta): #metaclass=abc.ABCMeta indica que a classe é abstrata\n",
        "    def __init__(self, nome, cpf):\n",
        "      self.nome = nome\n",
        "      self.cpf = cpf\n",
        "      \n",
        "    # Indicando o método como abstrato ele não precisa necessariamente ser implementado nesta classe, mas obrigatŕiamente deve ser implementado nas classes filhas  \n",
        "    @abc.abstractmethod #Decorator para informar que o método é abstrato\n",
        "    def informaDados():\n",
        "      pass\n",
        "\n",
        "#Classe filha\n",
        "class Gerente(Pessoa): #Pessoa é pai de Gerente\n",
        "    \n",
        "    def __init__(self, nome, cpf, salario, agencia, contato):\n",
        "      super().__init__(nome, cpf)\n",
        "      self.__salario = salario\n",
        "      self.agencia = agencia\n",
        "      self.contato = contato\n",
        "    \n",
        "    def informaDados(self):\n",
        "      print(f\"Nome do gerente: {self.nome}\")\n",
        "      print(f\"CPF do gerente: {self.cpf}\")\n",
        "      print(f\"Gerente da agência {self.agencia}\")\n",
        "    \n",
        "\n",
        "    #def troca_senha(self):\n",
        "      #implementação método\n",
        "    \n",
        "#Classe filha\n",
        "class Cliente (Pessoa):     #Cliente é filha de Pessoa\n",
        "  \n",
        "  def __init__(self, nome, cpf, conta, saldo_inicial, senha, gerente):\n",
        "    super().__init__(nome, cpf)\n",
        "    self.conta = conta\n",
        "    self.__saldo = saldo_inicial\n",
        "    self.__senha = senha\n",
        "    self.gerente = gerente\n",
        "  \n",
        "  def informaDados(self):\n",
        "    print(f\"O cliente {self.nome}, com CPF {self.cpf} é atendido pelo gerente {self.gerente.nome}\")\n",
        "  \n",
        "  def __valida_senha(self, senha): # __ indica método privado\n",
        "    if self.__senha == senha:\n",
        "      return True\n",
        "    else:\n",
        "      return False\n",
        "\n",
        "  def saca_dinheiro(self, senha, dinheiro):\n",
        "    if self.__valida_senha(senha):\n",
        "      print(\"Senha Validada\")\n",
        "      if self.__saldo >= dinheiro:\n",
        "        self.__saldo = self.__saldo - dinheiro\n",
        "        print(f\"Seu saque foi realizado. Agora seu saldo é de R$ {self.__saldo}\")\n",
        "        return True\n",
        "      else:\n",
        "        print(\"Você não tem saldo suficiente. Tente outro valor.\")\n",
        "    else:\n",
        "      print(\"Senha inválida.\")\n",
        "    return False\n",
        "  \n",
        "  def verifica_saldo(self, senha): #equivalente a get_saldo\n",
        "    if self.__valida_senha(senha):\n",
        "      return self.__saldo\n",
        "    else:\n",
        "      print(\"Senha inválida.\")\n",
        "  \n",
        "  def deposito(self, adicao, conta):\n",
        "    if conta == self.conta:\n",
        "      self.__saldo += adicao\n",
        "    else:\n",
        "      print(\"Verifique a conta informada\")\n",
        "\n",
        "  def contatar_gerente(self):\n",
        "    print(self.gerente.contato)"
      ],
      "execution_count": 8,
      "outputs": []
    },
    {
      "cell_type": "markdown",
      "metadata": {
        "id": "qVNyeudZ5qjg"
      },
      "source": [
        "### Questão 2: "
      ]
    },
    {
      "cell_type": "markdown",
      "metadata": {
        "id": "O6pXUiNHY3yk"
      },
      "source": [
        "Depois de ter criado o sistema, o dono do VoittoBank pediu para você ler os dados de cadastro de dois gerentes, dois clientes e informar os dados lidos\n",
        "\n",
        "1. Ler dados de cadastro de 2 Gerentes\n"
      ]
    },
    {
      "cell_type": "code",
      "metadata": {
        "id": "CFDWuHPpY4J_",
        "colab": {
          "base_uri": "https://localhost:8080/"
        },
        "outputId": "0a2d31e0-d13a-4359-e9a6-2a2ba0f14309"
      },
      "source": [
        "gerentes = []\n",
        "\n",
        "for i in range(2):\n",
        "  nome = input(\"Digite o nome do gerente: \")\n",
        "  cpf = input(\"Digite o CPF do Gerente: \")\n",
        "  salario = int(input(\"Digite o salário do gerente: \"))\n",
        "  agencia = input(\"Digite a agencia: \")\n",
        "  contato = input(\"Digite o email do gerente\")\n",
        "\n",
        "  gerente = Gerente(nome, cpf, salario, agencia, contato)\n",
        "\n",
        "  gerentes.append(gerente)"
      ],
      "execution_count": 9,
      "outputs": [
        {
          "name": "stdout",
          "output_type": "stream",
          "text": [
            "Digite o nome do gerente: José\n",
            "Digite o CPF do Gerente: 12345678900\n",
            "Digite o salário do gerente: 5000\n",
            "Digite a agencia: 1234\n",
            "Digite o email do gerenteMria\n",
            "Digite o nome do gerente: 98765432100\n",
            "Digite o CPF do Gerente: 5000\n",
            "Digite o salário do gerente: 5000\n",
            "Digite a agencia: 4321\n",
            "Digite o email do gerenteteste\n"
          ]
        }
      ]
    },
    {
      "cell_type": "markdown",
      "metadata": {
        "id": "HZH3hQQdHFf_"
      },
      "source": [
        "2. Ler dados de cadastro de 2 Clientes. Obs: escolha qualquer um dos gerentes instaciados anteriormente."
      ]
    },
    {
      "cell_type": "code",
      "metadata": {
        "id": "f8EaOSEZbEUk",
        "colab": {
          "base_uri": "https://localhost:8080/"
        },
        "outputId": "dc1e47f9-5ef8-4884-f7ce-3964f1e35872"
      },
      "source": [
        "import random\n",
        "clientes = []\n",
        "\n",
        "for i in range(2):\n",
        "  nome = input(\"Digite o nome do Cliente: \")\n",
        "  cpf = input(\"Digite o CPF do Cliente: \")\n",
        "  conta = input(\"Digite o número da conta: \")\n",
        "  saldo_inicial = int(input(\"Digite o saldo inicial: \"))\n",
        "  senha = input(\"Digite uma senha: \")\n",
        "  gerente = random.choice(gerentes)\n",
        "\n",
        "  cliente = Cliente(nome, cpf, conta, saldo_inicial, senha, gerente)\n",
        "\n",
        "  clientes.append(cliente)"
      ],
      "execution_count": 10,
      "outputs": [
        {
          "name": "stdout",
          "output_type": "stream",
          "text": [
            "Digite o nome do Cliente: Junior\n",
            "Digite o CPF do Cliente: 23456789000\n",
            "Digite o número da conta: 6789\n",
            "Digite o saldo inicial: 3000\n",
            "Digite uma senha: 12345\n",
            "Digite o nome do Cliente: Joana\n",
            "Digite o CPF do Cliente: 98765445678\n",
            "Digite o número da conta: 8956\n",
            "Digite o saldo inicial: 2000\n",
            "Digite uma senha: 4321\n"
          ]
        }
      ]
    },
    {
      "cell_type": "markdown",
      "source": [
        "Digite o nome do ClienteJosé\n",
        "Digite o CPF do Cliente: 54321678900\n",
        "Digite o número da conta: 1209\n",
        "Digite o saldo inicial: 2000\n",
        "Digite uma senha12345\n",
        "Digite o nome do ClienteAna\n",
        "Digite o CPF do Cliente: 67891234500\n",
        "Digite o número da conta: 7645\n",
        "Digite o saldo inicial: 3000\n",
        "Digite uma senha9856"
      ],
      "metadata": {
        "id": "71EGmNudBN_F"
      }
    },
    {
      "cell_type": "markdown",
      "metadata": {
        "id": "TD_DPspnJEV9"
      },
      "source": [
        "3. Verificar os dados cadastrados"
      ]
    },
    {
      "cell_type": "code",
      "metadata": {
        "id": "MLhoyF_yJlT5",
        "colab": {
          "base_uri": "https://localhost:8080/"
        },
        "outputId": "0cae4caa-7e98-4bf0-da4f-c53f125f2642"
      },
      "source": [
        "for p in gerentes + clientes:\n",
        "  p.informaDados()"
      ],
      "execution_count": 11,
      "outputs": [
        {
          "output_type": "stream",
          "name": "stdout",
          "text": [
            "Nome do gerente: José\n",
            "CPF do gerente: 12345678900\n",
            "Gerente da agência 1234\n",
            "Nome do gerente: 98765432100\n",
            "CPF do gerente: 5000\n",
            "Gerente da agência 4321\n",
            "O cliente Junior, com CPF 23456789000 é atendido pelo gerente José\n",
            "O cliente Joana, com CPF 98765445678 é atendido pelo gerente José\n"
          ]
        }
      ]
    },
    {
      "cell_type": "markdown",
      "metadata": {
        "id": "6oVrTCNC6ExI"
      },
      "source": [
        "### Questão 3: "
      ]
    },
    {
      "cell_type": "markdown",
      "metadata": {
        "id": "nrNXMh0b6WFU"
      },
      "source": [
        "Após realizar o cadastro de clientes e gerentes você deve realizar o saque de R$ 1000 do cliente 2, contatar o gerente do cliente 1 e implementar uma função que reproduza a transferência entre duas contas"
      ]
    },
    {
      "cell_type": "markdown",
      "metadata": {
        "id": "rlDmIQlpGJRM"
      },
      "source": [
        "1. Fazer o saque de R$ 1000 do cliente 2"
      ]
    },
    {
      "cell_type": "code",
      "metadata": {
        "id": "KfEG3grYJLOc",
        "colab": {
          "base_uri": "https://localhost:8080/"
        },
        "outputId": "a64413bf-d452-4d2b-f7f6-1d255a869c5b"
      },
      "source": [
        "clientes[1].saca_dinheiro('4321', 1000)"
      ],
      "execution_count": 66,
      "outputs": [
        {
          "output_type": "stream",
          "name": "stdout",
          "text": [
            "Senha Validada\n",
            "Seu saque foi realizado. Agora seu saldo é de R$ 1000\n"
          ]
        },
        {
          "output_type": "execute_result",
          "data": {
            "text/plain": [
              "True"
            ]
          },
          "metadata": {},
          "execution_count": 66
        }
      ]
    },
    {
      "cell_type": "code",
      "source": [
        "clientes[1].verifica_saldo('4321')"
      ],
      "metadata": {
        "colab": {
          "base_uri": "https://localhost:8080/"
        },
        "id": "Tcku-5S5_mH8",
        "outputId": "f28253f9-83f7-4d8d-8e9b-b00084bca4af"
      },
      "execution_count": 67,
      "outputs": [
        {
          "output_type": "execute_result",
          "data": {
            "text/plain": [
              "1000"
            ]
          },
          "metadata": {},
          "execution_count": 67
        }
      ]
    },
    {
      "cell_type": "markdown",
      "metadata": {
        "id": "8epnuNY6J_qz"
      },
      "source": [
        "2. Simule a ação do cliente 1 entrando em contato com o seu gerente."
      ]
    },
    {
      "cell_type": "code",
      "metadata": {
        "id": "6jjQw-t8KJYK",
        "colab": {
          "base_uri": "https://localhost:8080/"
        },
        "outputId": "499d77d5-6ff7-4e31-fb3a-87007674e52b"
      },
      "source": [
        "clientes[0].contatar_gerente()"
      ],
      "execution_count": 14,
      "outputs": [
        {
          "output_type": "stream",
          "name": "stdout",
          "text": [
            "Mria\n"
          ]
        }
      ]
    },
    {
      "cell_type": "markdown",
      "metadata": {
        "id": "uT4C37CKKhFT"
      },
      "source": [
        "3. A função de transferência deverá receber os seguintes dados: \n",
        "\n",
        "Dados do remetente:\n",
        "\n",
        "* Objeto cliente \n",
        "* Senha da conta\n",
        "\n",
        "Dados do destinatário:\n",
        "\n",
        "* Objeto cliente\n",
        "* Numéro da conta\n",
        "\n",
        "Além disso, deve receber um valor (float) que será transferido do remetente para o destinatátio. \n",
        "\n",
        "Dica: utilize os métodos *sacar_dinheiro()*  e *deposito()* para realizar esta operação."
      ]
    },
    {
      "cell_type": "code",
      "metadata": {
        "id": "x3MKJRJHLpgO",
        "colab": {
          "base_uri": "https://localhost:8080/"
        },
        "outputId": "9262bb6c-d34c-4e1b-80ff-aa284606ad32"
      },
      "source": [
        "def transferencia(cliente_remetente, senha_remetente, cliente_destinatario, conta_destinatario, valor):\n",
        "  if cliente_remetente.saca_dinheiro(senha_remetente, valor):\n",
        "    cliente_destinatario.deposito(valor, conta_destinatario)\n",
        "  else:\n",
        "    print(\"Operação não realizada\")\n",
        "\n",
        "senha_remetente = \"12345\"\n",
        "conta_destinatario = \"7645\"\n",
        "\n",
        "transferencia(clientes[0], senha_remetente, clientes[1], conta_destinatario, 500)\n"
      ],
      "execution_count": 15,
      "outputs": [
        {
          "output_type": "stream",
          "name": "stdout",
          "text": [
            "Senha Validada\n",
            "Seu saque foi realizado. Agora seu saldo é de R$ 2500\n",
            "Verifique a conta informada\n"
          ]
        }
      ]
    },
    {
      "cell_type": "code",
      "source": [
        "clientes[1].verifica_saldo(\"4321\")"
      ],
      "metadata": {
        "colab": {
          "base_uri": "https://localhost:8080/"
        },
        "id": "0f2OmnVmC0BX",
        "outputId": "f445c053-38ba-45f5-d6fa-62015743a94e"
      },
      "execution_count": 68,
      "outputs": [
        {
          "output_type": "execute_result",
          "data": {
            "text/plain": [
              "1000"
            ]
          },
          "metadata": {},
          "execution_count": 68
        }
      ]
    },
    {
      "cell_type": "markdown",
      "metadata": {
        "id": "_iQn5TcM9AcV"
      },
      "source": [
        "### Questão 4:"
      ]
    },
    {
      "cell_type": "markdown",
      "metadata": {
        "id": "D15f7OmubKJF"
      },
      "source": [
        "Por último, você deve salvar as informações dos Gerentes e Clientes cadastrados atualmente no sistema. As informações de interesse são: nome da Pessoa, CPF da Pessoa e índice de valor 1 se os dados forem referentes a um Cliente e 2 se os dados forem referentes a um Gerente."
      ]
    },
    {
      "cell_type": "code",
      "metadata": {
        "id": "1DdimR7jbb0-"
      },
      "source": [
        "import csv\n",
        "d = {\"nome\": None, \"cpf\": None, \"indice\": None}\n",
        "\n",
        "with open(\"informacoes.csv\", \"w\") as file:\n",
        "  arq = csv.DictWriter(file, fieldnames=d.keys())\n",
        "  arq.writeheader()\n",
        "\n",
        "  for p in clientes + gerentes:\n",
        "    d['nome'] = p.nome\n",
        "    d['cpf'] = p.cpf\n",
        "    if isinstance(p, Cliente):\n",
        "      d['indice'] = 1\n",
        "    elif isinstance(p, Gerente):\n",
        "      d['indice'] = 2\n",
        "    else:\n",
        "      d['indice'] = None\n",
        "\n",
        "    arq.writerow(d)"
      ],
      "execution_count": 17,
      "outputs": []
    },
    {
      "cell_type": "markdown",
      "metadata": {
        "id": "3L5R-w63uInt"
      },
      "source": [
        "## Exercício 3: Sistemas Lineares"
      ]
    },
    {
      "cell_type": "markdown",
      "metadata": {
        "id": "yNuHmSyiudQd"
      },
      "source": [
        "### Questão 1"
      ]
    },
    {
      "cell_type": "markdown",
      "metadata": {
        "id": "XxzWKQuJ03N-"
      },
      "source": [
        "[UFSC - Adaptado] Quando estamos estudando tranferência de calor é importante considerarmos a forma de se determinar a distribuição de temperatura assintótica de uma placa fina quando a temperatura nas suas extremidades é conhecida. Suponha que a placa a seguir represente uma seção transversal de uma barra de metal, com fluxo de calor desprezivel na direção perpendicular à placa.\n",
        "Sejam T1,..., T6 as temperaturas em seis vértices interiores da figura. A\n",
        "temperatura em um vértice é aproximadamente igual a média dos quatro vértices vizinhos\n",
        "mais próximos — a esquerda, acima,à direita, e abaixo. Por exemplo:"
      ]
    },
    {
      "cell_type": "markdown",
      "metadata": {
        "id": "ZxdMYVSDAbD5"
      },
      "source": [
        "![](https://drive.google.com/uc?export=view&id=1kdyo0-uihrknVRmQV7-rDswluBeo5OBT) \n"
      ]
    },
    {
      "cell_type": "markdown",
      "metadata": {
        "id": "eDxk5i0f-vbP"
      },
      "source": [
        "Para criarmos as equações que estarão na nossa matriz devemos seguir as seguintes equações: \\\\\n",
        "\n",
        "\\begin{equation}\n",
        "  T_1  = \\frac{(10 + 20 + T_2 + T_4)}{4}\n",
        "\\end{equation}\n",
        "\n",
        "Ou \n",
        "\n",
        "\\begin{equation}\n",
        "  30 = 4 T_1 - T_2 - T_4\n",
        "\\end{equation}\n"
      ]
    },
    {
      "cell_type": "markdown",
      "metadata": {
        "id": "QDIjxzrT4-IB"
      },
      "source": [
        "Repetindo o mesmo processo para os outros pontos, temos:"
      ]
    },
    {
      "cell_type": "markdown",
      "metadata": {
        "id": "8UAqhO-66K9d"
      },
      "source": [
        "\\begin{align}\n",
        "  20 &= -T_1 + 4 T_2 - T_3 - T_5 \\\\\n",
        "  60 &= -T_2 + 4 T_3 - T_6 \\\\\n",
        "  30 &= -T_1 + 4T_4 - T_5 \\\\\n",
        "  30 &= -T_2 - T_4 + 4T_5 -T_6 \\\\\n",
        "  60 &= -T_3 - T_5 + 4T_6\n",
        "\\end{align}"
      ]
    },
    {
      "cell_type": "markdown",
      "metadata": {
        "id": "t73260han-bP"
      },
      "source": [
        "Escrevendo o sistema em forma matricial, teremos uma matriz 6x6 da seguinte forma:\n",
        "\n",
        "\n",
        "\n",
        "\\begin{equation}\\left[\\begin{array}{cccccc}\n",
        "4T_1 & -T_2 & 0 & -T_4 & 0 & 0 \\\\\n",
        "-T_1 & 4T_2 & -T_3 & 0 & -T_5 & 0 \\\\\n",
        "0 & -T_2 & 4T_3 & 0 & 0 & -T_6 \\\\\n",
        "-T_1 & 0 & 0 & 4T_4 & -T_5 & 0 \\\\\n",
        "0 & -T_2 & 0 & -T_4 & 4T_5 & -T_6 \\\\\n",
        "0 & 0 & -T_3 & 0 & -T_5 & 4T_6\n",
        "\\end{array}\\right] \\quad\\left[\\begin{array}{l}\n",
        "30 \\\\\n",
        "20 \\\\\n",
        "60 \\\\\n",
        "30 \\\\\n",
        "30 \\\\\n",
        "60\n",
        "\\end{array}\\right]\\end{equation}\n"
      ]
    },
    {
      "cell_type": "markdown",
      "metadata": {
        "id": "aZ6lsrh074tH"
      },
      "source": [
        "Colocando o sistema no formato AT = B, temos:\n",
        "\n",
        "\\begin{equation}\\left[\\begin{array}{rrrrrr}\n",
        "4 & -1 & 0 & -1 & 0 & 0 \\\\\n",
        "-1 & 4 & -1 & 0 & -1 & 0 \\\\\n",
        "0 & -1 & 4 & 0 & 0 & -1 \\\\\n",
        "-1 & 0 & 0 & 4 & -1 & 0 \\\\\n",
        "0 & -1 & 0 & -1 & 4 & -1 \\\\\n",
        "0 & 0 & -1 & 0 & -1 & 4\n",
        "\\end{array}\\right] \\times \\left[\\begin{array}{l}\n",
        "T_1 \\\\\n",
        "T_2 \\\\\n",
        "T_3 \\\\\n",
        "T_4 \\\\\n",
        "T_5 \\\\\n",
        "T_6\n",
        "\\end{array}\\right] = \\left[\\begin{array}{l}\n",
        "30 \\\\\n",
        "20 \\\\\n",
        "60 \\\\\n",
        "30 \\\\\n",
        "30 \\\\\n",
        "60\n",
        "\\end{array}\\right]\\end{equation}"
      ]
    },
    {
      "cell_type": "code",
      "metadata": {
        "id": "qgsq8R7O80zu"
      },
      "source": [
        "import numpy as np"
      ],
      "execution_count": 18,
      "outputs": []
    },
    {
      "cell_type": "code",
      "metadata": {
        "id": "JXDhz2buuOWT"
      },
      "source": [
        "A = np.matrix([[4,-1,0,-1,0,0], [-1,4,-1,0,-1,0], [0,-1,4,0,0,-1], [-1,0,0,4,-1,0], [0,-1,0,-1,4,-1], [0,0,-1,0,-1,4]])\n",
        "B = np.matrix([[30], [20], [60], [30], [30], [60]])"
      ],
      "execution_count": 19,
      "outputs": []
    },
    {
      "cell_type": "code",
      "metadata": {
        "id": "LxZsRqSbFmOL",
        "colab": {
          "base_uri": "https://localhost:8080/"
        },
        "outputId": "47a71d52-b55f-486f-dc38-25c61b2745c5"
      },
      "source": [
        "print(A)\n",
        "print(B)"
      ],
      "execution_count": 20,
      "outputs": [
        {
          "output_type": "stream",
          "name": "stdout",
          "text": [
            "[[ 4 -1  0 -1  0  0]\n",
            " [-1  4 -1  0 -1  0]\n",
            " [ 0 -1  4  0  0 -1]\n",
            " [-1  0  0  4 -1  0]\n",
            " [ 0 -1  0 -1  4 -1]\n",
            " [ 0  0 -1  0 -1  4]]\n",
            "[[30]\n",
            " [20]\n",
            " [60]\n",
            " [30]\n",
            " [30]\n",
            " [60]]\n"
          ]
        }
      ]
    },
    {
      "cell_type": "markdown",
      "metadata": {
        "id": "KljePCxr-RT1"
      },
      "source": [
        "1. Sabemos que é possível descobrirmos se uma matriz possui solução através do *determinante*.\n",
        "  * Se for *igual 0* a matriz possui infinitas soluções\n",
        "  * Se for *diferente de 0* a matriz possui solução única \\\\\n",
        "  Então, calcule o determinante da matriz para descobrir se ela possui solução única"
      ]
    },
    {
      "cell_type": "code",
      "metadata": {
        "id": "wXSe1wZP-CgP",
        "colab": {
          "base_uri": "https://localhost:8080/"
        },
        "outputId": "e27931ef-9004-460f-c69d-36d803c8cf4b"
      },
      "source": [
        "np.linalg.det(A)"
      ],
      "execution_count": 21,
      "outputs": [
        {
          "output_type": "execute_result",
          "data": {
            "text/plain": [
              "2415.0000000000014"
            ]
          },
          "metadata": {},
          "execution_count": 21
        }
      ]
    },
    {
      "cell_type": "markdown",
      "metadata": {
        "id": "r3cbjrwvBwA2"
      },
      "source": [
        "2. Se o resultado do determinante mostrar que há solução única, use o linalg.solve() para resolver o sistema"
      ]
    },
    {
      "cell_type": "code",
      "metadata": {
        "id": "3LYYMr0CDI_3",
        "colab": {
          "base_uri": "https://localhost:8080/"
        },
        "outputId": "8d0c4383-b7ae-46a1-b60c-52ab965b0e22"
      },
      "source": [
        "solucao = np.linalg.solve(A, B)\n",
        "solucao"
      ],
      "execution_count": 22,
      "outputs": [
        {
          "output_type": "execute_result",
          "data": {
            "text/plain": [
              "matrix([[17.63975155],\n",
              "        [22.48447205],\n",
              "        [27.63975155],\n",
              "        [18.07453416],\n",
              "        [24.65838509],\n",
              "        [28.07453416]])"
            ]
          },
          "metadata": {},
          "execution_count": 22
        }
      ]
    },
    {
      "cell_type": "markdown",
      "metadata": {
        "id": "54fFX6v3EFOt"
      },
      "source": [
        "### Questão 2:"
      ]
    },
    {
      "cell_type": "markdown",
      "metadata": {
        "id": "f0uza9b_77Lz"
      },
      "source": [
        "Observando a figura da placa:"
      ]
    },
    {
      "cell_type": "markdown",
      "metadata": {
        "id": "1uxNtZz57_GI"
      },
      "source": [
        "![](https://drive.google.com/uc?export=view&id=1kdyo0-uihrknVRmQV7-rDswluBeo5OBT) \n"
      ]
    },
    {
      "cell_type": "markdown",
      "metadata": {
        "id": "P5c-2FfM8Cxk"
      },
      "source": [
        "Você deve criar uma matriz para representá-la, colocando a solução obtida no lugar de $T_{i}$."
      ]
    },
    {
      "cell_type": "code",
      "metadata": {
        "id": "ZHznnIXdCUop",
        "colab": {
          "base_uri": "https://localhost:8080/"
        },
        "outputId": "83a85c56-6ea1-4395-fd51-dafa1b3b2a80"
      },
      "source": [
        "solucao"
      ],
      "execution_count": 23,
      "outputs": [
        {
          "output_type": "execute_result",
          "data": {
            "text/plain": [
              "matrix([[17.63975155],\n",
              "        [22.48447205],\n",
              "        [27.63975155],\n",
              "        [18.07453416],\n",
              "        [24.65838509],\n",
              "        [28.07453416]])"
            ]
          },
          "metadata": {},
          "execution_count": 23
        }
      ]
    },
    {
      "cell_type": "code",
      "metadata": {
        "id": "23KfssLnEJD7",
        "colab": {
          "base_uri": "https://localhost:8080/"
        },
        "outputId": "3f9c13d2-eef6-486e-c545-1eae6ccfd9f0"
      },
      "source": [
        "solucao_reshape = solucao.reshape((2,3))\n",
        "solucao_reshape"
      ],
      "execution_count": 24,
      "outputs": [
        {
          "output_type": "execute_result",
          "data": {
            "text/plain": [
              "matrix([[17.63975155, 22.48447205, 27.63975155],\n",
              "        [18.07453416, 24.65838509, 28.07453416]])"
            ]
          },
          "metadata": {},
          "execution_count": 24
        }
      ]
    },
    {
      "cell_type": "code",
      "metadata": {
        "id": "fs50Ys-0EI1z",
        "colab": {
          "base_uri": "https://localhost:8080/"
        },
        "outputId": "a6987457-f4b3-4a72-c816-e5a2755dd926"
      },
      "source": [
        "matriz = np.zeros((4,5))\n",
        "matriz"
      ],
      "execution_count": 25,
      "outputs": [
        {
          "output_type": "execute_result",
          "data": {
            "text/plain": [
              "array([[0., 0., 0., 0., 0.],\n",
              "       [0., 0., 0., 0., 0.],\n",
              "       [0., 0., 0., 0., 0.],\n",
              "       [0., 0., 0., 0., 0.]])"
            ]
          },
          "metadata": {},
          "execution_count": 25
        }
      ]
    },
    {
      "cell_type": "code",
      "metadata": {
        "id": "UCjyQI5i49Gi",
        "colab": {
          "base_uri": "https://localhost:8080/"
        },
        "outputId": "c8c61759-f783-4e91-b3d7-ca01aeccb2d3"
      },
      "source": [
        "matriz[1:-1, 1:-1] = solucao_reshape\n",
        "print(matriz)"
      ],
      "execution_count": 26,
      "outputs": [
        {
          "output_type": "stream",
          "name": "stdout",
          "text": [
            "[[ 0.          0.          0.          0.          0.        ]\n",
            " [ 0.         17.63975155 22.48447205 27.63975155  0.        ]\n",
            " [ 0.         18.07453416 24.65838509 28.07453416  0.        ]\n",
            " [ 0.          0.          0.          0.          0.        ]]\n"
          ]
        }
      ]
    },
    {
      "cell_type": "code",
      "source": [
        "matriz[0,1:-1] = 20 #inserindo valores na primeira linha da matriz [0], e nas últimas três colunas [1,0-1]\n",
        "matriz[-1, 1:-1] = [20, 30, 20]\n",
        "matriz[1:-1, 0] = 10 #inserindo valores na primeira coluna das lnhas do meio\n",
        "matriz[1:-1, -1] = 40\n",
        "matriz"
      ],
      "metadata": {
        "colab": {
          "base_uri": "https://localhost:8080/"
        },
        "id": "T9ggtmC5LiwI",
        "outputId": "74c634d0-8025-4562-a631-e337ae2d8f92"
      },
      "execution_count": 27,
      "outputs": [
        {
          "output_type": "execute_result",
          "data": {
            "text/plain": [
              "array([[ 0.        , 20.        , 20.        , 20.        ,  0.        ],\n",
              "       [10.        , 17.63975155, 22.48447205, 27.63975155, 40.        ],\n",
              "       [10.        , 18.07453416, 24.65838509, 28.07453416, 40.        ],\n",
              "       [ 0.        , 20.        , 30.        , 20.        ,  0.        ]])"
            ]
          },
          "metadata": {},
          "execution_count": 27
        }
      ]
    },
    {
      "cell_type": "code",
      "source": [
        "matriz[0,0] = matriz[0, -1] = matriz[-1, 0] = matriz[-1, -1] = None\n",
        "matriz"
      ],
      "metadata": {
        "colab": {
          "base_uri": "https://localhost:8080/"
        },
        "id": "JJ40fmHPNL9p",
        "outputId": "c8c49907-40d2-44f9-ca91-5cb584e1b2d6"
      },
      "execution_count": 28,
      "outputs": [
        {
          "output_type": "execute_result",
          "data": {
            "text/plain": [
              "array([[        nan, 20.        , 20.        , 20.        ,         nan],\n",
              "       [10.        , 17.63975155, 22.48447205, 27.63975155, 40.        ],\n",
              "       [10.        , 18.07453416, 24.65838509, 28.07453416, 40.        ],\n",
              "       [        nan, 20.        , 30.        , 20.        ,         nan]])"
            ]
          },
          "metadata": {},
          "execution_count": 28
        }
      ]
    },
    {
      "cell_type": "markdown",
      "metadata": {
        "id": "VAbHz_9LEgTh"
      },
      "source": [
        "## Exercício 4: Arquivos, regressões e ajustes de curvas"
      ]
    },
    {
      "cell_type": "markdown",
      "metadata": {
        "id": "Hm93Xi8mGHWV"
      },
      "source": [
        "A **Voitto** vem investindo uma boa parte do capital de lucro em publicidade e propaganda, visando atingir um maior público em todo o país. Com isso, fez-se necessário descobrir como a propaganda influencia no lucro da empresa,já que foi investido bastante nessa área. Com isso, temos os dados do que foi investido em propaganda e o retorno que esse investimento trouxe para a empresa. Dessa forma, você foi contratado, justamente, para descobrir como o valor investido em propaganda está relacionado com o lucro da empresa\n",
        "\n",
        "[Fonte dados](http://www.portalaction.com.br/analise-de-regressao/exercicios)\n",
        "\n"
      ]
    },
    {
      "cell_type": "markdown",
      "metadata": {
        "id": "KkTbeLnDEgyS"
      },
      "source": [
        "### Questão 1:"
      ]
    },
    {
      "cell_type": "markdown",
      "metadata": {
        "id": "GXdCIa2z9E-4"
      },
      "source": [
        "1. Importe os dados e armazene um um Numpy array. (Lembre-se que os elementos da posição 0 serão sempre o nome da coluna)\n",
        "\n",
        "2. Ajuste as curvas de 1, 2 e 3 grau para ver qual regressão melhor se encaixa com os dados\n",
        "\n",
        "3. Plote o gráfico com os dados e as regressões encontradas\n",
        "\n",
        "4. Calcule o erro MSE (Mean Square Error) das regressões encontradas para avaliar seu modelo"
      ]
    },
    {
      "cell_type": "code",
      "metadata": {
        "id": "uR3vYCseGc_O"
      },
      "source": [
        "import csv\n",
        "import numpy as np\n",
        "import matplotlib.pyplot as plt\n"
      ],
      "execution_count": 29,
      "outputs": []
    },
    {
      "cell_type": "markdown",
      "metadata": {
        "id": "TI6vVmvY_2P7"
      },
      "source": [
        "**Leitura e tratamento dos dados**"
      ]
    },
    {
      "cell_type": "code",
      "metadata": {
        "id": "RcFIQxDJJhMX",
        "colab": {
          "base_uri": "https://localhost:8080/"
        },
        "outputId": "3ee6dd25-51bc-4962-c900-c1533648fe31"
      },
      "source": [
        "with open(\"dados_propaganda.csv\") as file:\n",
        "  dados = csv.reader(file, delimiter=\",\")\n",
        "  dados = list(dados)\n",
        "\n",
        "dados_array = np.array(dados)\n",
        "dados_array"
      ],
      "execution_count": 30,
      "outputs": [
        {
          "output_type": "execute_result",
          "data": {
            "text/plain": [
              "array([['Propaganda', 'Retorno'],\n",
              "       ['0', '6467.82'],\n",
              "       ['0', '8520.73'],\n",
              "       ['0', '12574.83'],\n",
              "       ['0', '6634.65'],\n",
              "       ['0', '7075.62'],\n",
              "       ['0', '7247.57'],\n",
              "       ['0', '10570.43'],\n",
              "       ['0', '6107.06'],\n",
              "       ['0', '7473.10'],\n",
              "       ['0', '11672.93'],\n",
              "       ['200', '20984.32'],\n",
              "       ['200', '17608.71'],\n",
              "       ['200', '21679.21'],\n",
              "       ['200', '20785.64'],\n",
              "       ['200', '15126.19'],\n",
              "       ['200', '17044.26'],\n",
              "       ['200', '16835.97'],\n",
              "       ['200', '16698.53'],\n",
              "       ['200', '13678.42'],\n",
              "       ['200', '12594.72'],\n",
              "       ['400', '20674.12'],\n",
              "       ['400', '24949.48'],\n",
              "       ['400', '24572.70'],\n",
              "       ['400', '27684.32'],\n",
              "       ['400', '25790.40'],\n",
              "       ['400', '22974.21'],\n",
              "       ['400', '23875.43'],\n",
              "       ['400', '24898.01'],\n",
              "       ['400', '24886.51'],\n",
              "       ['400', '26418.90'],\n",
              "       ['600', '31982.04'],\n",
              "       ['600', '35783.29'],\n",
              "       ['600', '31673.81'],\n",
              "       ['600', '28764.10'],\n",
              "       ['600', '31538.77'],\n",
              "       ['600', '29452.07'],\n",
              "       ['600', '30566.81'],\n",
              "       ['600', '33564.98'],\n",
              "       ['600', '32940.80'],\n",
              "       ['600', '34769.32'],\n",
              "       ['800', '37995.02'],\n",
              "       ['800', '35698.45'],\n",
              "       ['800', '38895.15'],\n",
              "       ['800', '33985.43'],\n",
              "       ['800', '36256.79'],\n",
              "       ['800', '39724.80'],\n",
              "       ['800', '43786.32'],\n",
              "       ['800', '39034.34'],\n",
              "       ['800', '44723.18'],\n",
              "       ['800', '41984.39'],\n",
              "       ['1000', '41876.80'],\n",
              "       ['1000', '38327.06'],\n",
              "       ['1000', '44260.82'],\n",
              "       ['1000', '42894.22'],\n",
              "       ['1000', '44580.40'],\n",
              "       ['1000', '42515.34'],\n",
              "       ['1000', '44136.38'],\n",
              "       ['1000', '45154.52'],\n",
              "       ['1000', '46599.33'],\n",
              "       ['1000', '41808.48'],\n",
              "       ['1200', '44896.52'],\n",
              "       ['1200', '46718.30'],\n",
              "       ['1200', '45963.28'],\n",
              "       ['1200', '46734.56'],\n",
              "       ['1200', '48864.33'],\n",
              "       ['1200', '49864.30'],\n",
              "       ['1200', '46516.91'],\n",
              "       ['1200', '52964.21'],\n",
              "       ['1200', '49654.27'],\n",
              "       ['1200', '51709.32'],\n",
              "       ['1400', '48434.65'],\n",
              "       ['1400', '52783.49'],\n",
              "       ['1400', '50213.87'],\n",
              "       ['1400', '49118.76'],\n",
              "       ['1400', '46684.83'],\n",
              "       ['1400', '48887.23'],\n",
              "       ['1400', '47872.49'],\n",
              "       ['1400', '48114.88'],\n",
              "       ['1400', '48538.83'],\n",
              "       ['1400', '50282.93'],\n",
              "       ['1600', '50582.37'],\n",
              "       ['1600', '49733.53'],\n",
              "       ['1600', '53720.28'],\n",
              "       ['1600', '50242.56'],\n",
              "       ['1600', '50064.46'],\n",
              "       ['1600', '54955.81'],\n",
              "       ['1600', '50739.18'],\n",
              "       ['1600', '50766.31'],\n",
              "       ['1600', '50959.79'],\n",
              "       ['1600', '49839.58'],\n",
              "       ['1800', '51797.37'],\n",
              "       ['1800', '51778.55'],\n",
              "       ['1800', '49844.99'],\n",
              "       ['1800', '51938.31'],\n",
              "       ['1800', '48969.44'],\n",
              "       ['1800', '53573.27'],\n",
              "       ['1800', '51292.33'],\n",
              "       ['1800', '53330.85'],\n",
              "       ['1800', '51896.27'],\n",
              "       ['1800', '53355.78']], dtype='<U10')"
            ]
          },
          "metadata": {},
          "execution_count": 30
        }
      ]
    },
    {
      "cell_type": "code",
      "metadata": {
        "id": "3-djOxAhJqNv"
      },
      "source": [
        "colunas = dados_array[0, :]\n",
        "propaganda = dados_array[1:, 0].astype(int)\n",
        "retorno = dados_array[1:, 1].astype(float)\n"
      ],
      "execution_count": 31,
      "outputs": []
    },
    {
      "cell_type": "markdown",
      "metadata": {
        "id": "QY-XLSHQ_zV0"
      },
      "source": [
        "**Ajuste de curvas**"
      ]
    },
    {
      "cell_type": "code",
      "metadata": {
        "id": "jHdsjHt6J_hQ",
        "colab": {
          "base_uri": "https://localhost:8080/"
        },
        "outputId": "fdacc4cd-2461-40ec-d65a-a8cdb302c97f"
      },
      "source": [
        "#A classe polyfit usa o método dos mínimos quadrados\n",
        "#para ajustar um polinômio de grau “deg” (1, 2, 3 ...)\n",
        "# em um conjunto de dados “propaganda vs retorno”. \n",
        "#Já a classe poly1d permite calcular o novo vetor retorno \n",
        "#(valores ajustados para cada valor de propaganda).\n",
        "# \n",
        "primeiro_grau = np.polyfit(propaganda, retorno, 1)\n",
        "segundo_grau = np.polyfit(propaganda, retorno, 2)\n",
        "terceiro_grau = np.polyfit(propaganda, retorno, 3)\n",
        "\n",
        "print(primeiro_grau)"
      ],
      "execution_count": 32,
      "outputs": [
        {
          "output_type": "stream",
          "name": "stdout",
          "text": [
            "[   24.30462421 14661.60810909]\n"
          ]
        }
      ]
    },
    {
      "cell_type": "markdown",
      "source": [
        "A função numpy.poly1d() ajuda a definir uma função polinomial. Facilita a aplicação de “operações naturais” em polinômios.\n",
        "\n",
        "  Sintaxe: numpy.poly1d (arr, root, var)\n",
        "  Parâmetros:\n",
        "  arr: [array_like] Os coeficientes polinomiais são dados em ordem decrescente de potências. Se o segundo parâmetro (raiz) for definido como Verdadeiro, os valores da matriz serão as raízes da equação polinomial.\n",
        "\n",
        "  root: [bool, opcional] True significa raízes polinomiais. O padrão é False.\n",
        "  var: variável como x, y, z que precisamos no polinômio [o padrão é x].\n",
        "\n",
        "\n",
        "Por exemplo: poly1d (3, 2, 6) = 3x 2 + 2x + 6\n",
        "poly1d ([1, 2, 3], Verdadeiro) = (x-1) (x-2) (x-3) = x^3 - 6x^2 + 11x -6 "
      ],
      "metadata": {
        "id": "1JvHPp41VfXF"
      }
    },
    {
      "cell_type": "code",
      "metadata": {
        "id": "VC8MOdAgKZ0_",
        "colab": {
          "base_uri": "https://localhost:8080/"
        },
        "outputId": "012f5fa6-a52d-4d19-ea52-1483379701b7"
      },
      "source": [
        "p1 = np.poly1d(primeiro_grau)\n",
        "p2 = np.poly1d(segundo_grau)\n",
        "p3 = np.poly1d(terceiro_grau)\n",
        "\n",
        "print(p1)\n",
        "print(p2)\n",
        "print(p3)"
      ],
      "execution_count": 33,
      "outputs": [
        {
          "output_type": "stream",
          "name": "stdout",
          "text": [
            " \n",
            "24.3 x + 1.466e+04\n",
            "         2\n",
            "-0.0139 x + 49.32 x + 7992\n",
            "            3            2\n",
            "-1.487e-06 x - 0.009882 x + 46.58 x + 8291\n"
          ]
        }
      ]
    },
    {
      "cell_type": "markdown",
      "metadata": {
        "id": "56mxCRas_vtg"
      },
      "source": [
        "**Gráfico**"
      ]
    },
    {
      "cell_type": "code",
      "metadata": {
        "id": "oc5Rn6L8L4_u",
        "colab": {
          "base_uri": "https://localhost:8080/",
          "height": 735
        },
        "outputId": "1c311915-67fe-45e4-bd11-5cc22d1b9d84"
      },
      "source": [
        "x = np.linspace(propaganda.min(), propaganda.max(), 200)\n",
        "plt.figure(figsize=(10,8))\n",
        "plt.scatter(propaganda, retorno, c='k', label=\"dados\")\n",
        "plt.plot(x, p1(x), c='r', label=\"Regressão Grau 1\")\n",
        "plt.plot(x, p2(x), color='blue', label=\"Regressão Grau 2\")\n",
        "plt.plot(x, p3(x), c='g', label=\"Regressão Grau 3\")\n",
        "plt.legend(loc=\"best\")\n",
        "plt.xlabel(\"Valor gasto em propaganda\")\n",
        "plt.ylabel(\"Valor que retornou\")\n",
        "plt.title(\"Retorno x Investimento em propaganda\")"
      ],
      "execution_count": 34,
      "outputs": [
        {
          "output_type": "execute_result",
          "data": {
            "text/plain": [
              "Text(0.5, 1.0, 'Retorno x Investimento em propaganda')"
            ]
          },
          "metadata": {},
          "execution_count": 34
        },
        {
          "output_type": "display_data",
          "data": {
            "text/plain": [
              "<Figure size 1000x800 with 1 Axes>"
            ],
            "image/png": "[encoded data removed]"
          },
          "metadata": {}
        }
      ]
    },
    {
      "cell_type": "markdown",
      "metadata": {
        "id": "TagD3xN588xE"
      },
      "source": [
        "**Avaliação do modelo**"
      ]
    },
    {
      "cell_type": "code",
      "metadata": {
        "id": "06EVxtqD89RT"
      },
      "source": [
        "def mse(y, y_pred):\n",
        "  erros = (y - y_pred)**2\n",
        "  return erros.mean()"
      ],
      "execution_count": 35,
      "outputs": []
    },
    {
      "cell_type": "code",
      "metadata": {
        "id": "x4QDkSFnApLN",
        "colab": {
          "base_uri": "https://localhost:8080/"
        },
        "outputId": "f33e36ae-7aca-42a7-fba6-7bfb25846582"
      },
      "source": [
        "print(\"Erro regressão linear: {:.2e}\".format(mse(retorno, p1(propaganda))))\n",
        "print(\"Erro regressão quadrática: {:.2e}\".format(mse(retorno, p2(propaganda))))\n",
        "print(\"Erro regressão grau 3: {:.2e}\".format(mse(retorno, p3(propaganda))))"
      ],
      "execution_count": 36,
      "outputs": [
        {
          "output_type": "stream",
          "name": "stdout",
          "text": [
            "Erro regressão linear: 2.17e+07\n",
            "Erro regressão quadrática: 5.41e+06\n",
            "Erro regressão grau 3: 5.36e+06\n"
          ]
        }
      ]
    },
    {
      "cell_type": "markdown",
      "metadata": {
        "id": "Oamv7oLsEoWq"
      },
      "source": [
        "### Questão 2:"
      ]
    },
    {
      "cell_type": "markdown",
      "metadata": {
        "id": "EnYZPm0WEvqw"
      },
      "source": [
        "Depois de ter descoberto quais curvas melhores se ajustam aos dados, pediram para que você projete como serão os valores retornados com o aumento da quantidade gasta em propaganda com base nas curvas encontradas. Nessa situação, a projeção deve ser para gastos de até 2500, marcando, no gráfico, os pontos de investimento de 2000, 2250 e 2500 reais na curva que obteve o menor erro\n"
      ]
    },
    {
      "cell_type": "code",
      "metadata": {
        "id": "NUQSAY2aEu7N",
        "colab": {
          "base_uri": "https://localhost:8080/"
        },
        "outputId": "f5a5468a-551b-4a71-9a98-6d8a8981b340"
      },
      "source": [
        "invest = [2000, 2250, 2500]\n",
        "pontos = [p3(x) for x in invest]\n",
        "pontos"
      ],
      "execution_count": 37,
      "outputs": [
        {
          "output_type": "execute_result",
          "data": {
            "text/plain": [
              "[50022.443399999924, 46126.47480529383, 39740.974165224245]"
            ]
          },
          "metadata": {},
          "execution_count": 37
        }
      ]
    },
    {
      "cell_type": "code",
      "metadata": {
        "id": "I7OG92W4EvUS",
        "colab": {
          "base_uri": "https://localhost:8080/",
          "height": 735
        },
        "outputId": "f85a7f4f-d3e1-44cb-d57f-9e57f49a33f4"
      },
      "source": [
        "x = np.linspace(0, 2700, 200)\n",
        "plt.figure(figsize=(10,8))\n",
        "plt.scatter(propaganda, retorno, c='k', label=\"dados\")\n",
        "plt.scatter(invest, pontos, c='darkorange', label=\"projeções\")\n",
        "plt.plot(x, p1(x), c='r', label=\"Regressão Grau 1\")\n",
        "plt.plot(x, p2(x), color='blue', label=\"Regressão Grau 2\")\n",
        "plt.plot(x, p3(x), c='g', label=\"Regressão Grau 3\")\n",
        "plt.legend(loc=\"best\")\n",
        "plt.xlabel(\"Valor gasto em propaganda\")\n",
        "plt.ylabel(\"Valor que retornou\")\n",
        "plt.title(\"Retorno x Investimento em propaganda\")"
      ],
      "execution_count": 38,
      "outputs": [
        {
          "output_type": "execute_result",
          "data": {
            "text/plain": [
              "Text(0.5, 1.0, 'Retorno x Investimento em propaganda')"
            ]
          },
          "metadata": {},
          "execution_count": 38
        },
        {
          "output_type": "display_data",
          "data": {
            "text/plain": [
              "<Figure size 1000x800 with 1 Axes>"
            ],
            "image/png": "[encoded data removed]"
          },
          "metadata": {}
        }
      ]
    },
    {
      "cell_type": "markdown",
      "metadata": {
        "id": "iHPw_Kv7l9iI"
      },
      "source": [
        "## Exercício 5: Visualizações de dados"
      ]
    },
    {
      "cell_type": "markdown",
      "metadata": {
        "id": "2NWr2UqsoKz_"
      },
      "source": [
        "### Questão 1"
      ]
    },
    {
      "cell_type": "markdown",
      "metadata": {
        "id": "IS6AlSFfDxuK"
      },
      "source": [
        "A empresa **Voitto Magazine**, que atua no setor de varejo, obteve um grande volume de vendas no último ano graças às diversas melhorias nos canais de vendas ao cliente. Com o objetivo de analisar o resultado das vendas e aumentar ainda mais a venda de produtos, você foi contratado como analista para tirar informações dos dados que a empresa possui das vendas anteriores.\n"
      ]
    },
    {
      "cell_type": "markdown",
      "metadata": {
        "id": "ow1nOWyLoPyw"
      },
      "source": [
        "A partir dessa base descubra:\n",
        "\n",
        "1. Qual foi o canal de venda mais frequente da *Voitto Magazine*;\n",
        "2. Em qual ocasião (Promoção vigente) de oferta os clientes mais compraram;\n",
        "3. Qual porcentagem os eletrodomésticos representam no total de vendas\n",
        "\n"
      ]
    },
    {
      "cell_type": "markdown",
      "metadata": {
        "id": "L-V9_pm3srjw"
      },
      "source": [
        "| ID Ordem | Custo Unit | Preço Venda Uni | Qnt Ordem | Custo da Venda | Receita Vendas | Lucro | Canal Venda | Promoção Vigente | Fabricante | Categoria do Produto | Subcategoria do Produto | Cidade | Estado |\n",
        "|----------|------------|-----------------|-----------|----------------|----------------|-------|-------------|------------------|------------|----------------------|-------------------------|--------|--------|\n",
        "|          |            |                 |           |                |                |       |             |                  |            |                      |                         |        |        |"
      ]
    },
    {
      "cell_type": "code",
      "metadata": {
        "id": "s1UcRRvJM7n6"
      },
      "source": [
        "import csv\n",
        "import numpy as np\n",
        "\n",
        "with open(\"dados_CD_varejista.csv\") as file:\n",
        "  dados = csv.reader(file, delimiter=\",\")\n",
        "  dados = list(dados)\n",
        "\n",
        "dados_varejista = np.array(dados)"
      ],
      "execution_count": 39,
      "outputs": []
    },
    {
      "cell_type": "code",
      "source": [
        "#textando com pandas\n",
        "import pandas as pd\n",
        "\n",
        "df_dados_varejista_pd = pd.read_csv('dados_CD_varejista.csv')\n",
        "df_dados_varejista_pd.head()\n"
      ],
      "metadata": {
        "colab": {
          "base_uri": "https://localhost:8080/",
          "height": 302
        },
        "id": "lVZZUXu0ZQao",
        "outputId": "16358aa5-2ca1-46bd-86c8-13f1388a644a"
      },
      "execution_count": 40,
      "outputs": [
        {
          "output_type": "execute_result",
          "data": {
            "text/plain": [
              "   ID Ordem  Custo Unit  Preço Venda Unit  Qnt Ordem  Custo da Venda  \\\n",
              "0     10481       13.73             68.63          1           13.73   \n",
              "1     10968       17.01             85.04          1           17.01   \n",
              "2     11271       30.75            153.76          1           30.75   \n",
              "3     11690       17.01             85.04          1           17.01   \n",
              "4     16152      246.95           1234.73          1          246.95   \n",
              "\n",
              "   Receita Vendas   Lucro   Canal Venda Promoção Vigente Fabricante  \\\n",
              "0           68.63   54.90  Loja Própria     Dia das Mães    Mallory   \n",
              "1           85.04   68.03   Loja Online     Sem Desconto   Britânia   \n",
              "2          153.76  123.01    Revendedor     Sem Desconto    Mondial   \n",
              "3           85.04   68.03   Loja Online     Sem Desconto    Mondial   \n",
              "4         1234.73  987.78   Loja Online     Sem Desconto     Comfee   \n",
              "\n",
              "  Categoria do Produto Subcategoria do Produto        Cidade  \\\n",
              "0      Eletroportáteis              Ventilador      Londrina   \n",
              "1      Eletroportáteis              Ventilador      Curitiba   \n",
              "2      Eletroportáteis              Ventilador      Blumenau   \n",
              "3      Eletroportáteis              Ventilador  Porto Alegre   \n",
              "4      Eletrodoméstico         Ar condicionado  Porto Alegre   \n",
              "\n",
              "              Estado  \n",
              "0             Paraná  \n",
              "1             Paraná  \n",
              "2     Santa Catarina  \n",
              "3  Rio Grande do Sul  \n",
              "4  Rio Grande do Sul  "
            ],
            "text/html": [
              "\n",
              "  <div id=\"df-aa8ff3d5-3131-4525-ab13-9848acf26aaa\">\n",
              "    <div class=\"colab-df-container\">\n",
              "      <div>\n",
              "<style scoped>\n",
              "    .dataframe tbody tr th:only-of-type {\n",
              "        vertical-align: middle;\n",
              "    }\n",
              "\n",
              "    .dataframe tbody tr th {\n",
              "        vertical-align: top;\n",
              "    }\n",
              "\n",
              "    .dataframe thead th {\n",
              "        text-align: right;\n",
              "    }\n",
              "</style>\n",
              "<table border=\"1\" class=\"dataframe\">\n",
              "  <thead>\n",
              "    <tr style=\"text-align: right;\">\n",
              "      <th></th>\n",
              "      <th>ID Ordem</th>\n",
              "      <th>Custo Unit</th>\n",
              "      <th>Preço Venda Unit</th>\n",
              "      <th>Qnt Ordem</th>\n",
              "      <th>Custo da Venda</th>\n",
              "      <th>Receita Vendas</th>\n",
              "      <th>Lucro</th>\n",
              "      <th>Canal Venda</th>\n",
              "      <th>Promoção Vigente</th>\n",
              "      <th>Fabricante</th>\n",
              "      <th>Categoria do Produto</th>\n",
              "      <th>Subcategoria do Produto</th>\n",
              "      <th>Cidade</th>\n",
              "      <th>Estado</th>\n",
              "    </tr>\n",
              "  </thead>\n",
              "  <tbody>\n",
              "    <tr>\n",
              "      <th>0</th>\n",
              "      <td>10481</td>\n",
              "      <td>13.73</td>\n",
              "      <td>68.63</td>\n",
              "      <td>1</td>\n",
              "      <td>13.73</td>\n",
              "      <td>68.63</td>\n",
              "      <td>54.90</td>\n",
              "      <td>Loja Própria</td>\n",
              "      <td>Dia das Mães</td>\n",
              "      <td>Mallory</td>\n",
              "      <td>Eletroportáteis</td>\n",
              "      <td>Ventilador</td>\n",
              "      <td>Londrina</td>\n",
              "      <td>Paraná</td>\n",
              "    </tr>\n",
              "    <tr>\n",
              "      <th>1</th>\n",
              "      <td>10968</td>\n",
              "      <td>17.01</td>\n",
              "      <td>85.04</td>\n",
              "      <td>1</td>\n",
              "      <td>17.01</td>\n",
              "      <td>85.04</td>\n",
              "      <td>68.03</td>\n",
              "      <td>Loja Online</td>\n",
              "      <td>Sem Desconto</td>\n",
              "      <td>Britânia</td>\n",
              "      <td>Eletroportáteis</td>\n",
              "      <td>Ventilador</td>\n",
              "      <td>Curitiba</td>\n",
              "      <td>Paraná</td>\n",
              "    </tr>\n",
              "    <tr>\n",
              "      <th>2</th>\n",
              "      <td>11271</td>\n",
              "      <td>30.75</td>\n",
              "      <td>153.76</td>\n",
              "      <td>1</td>\n",
              "      <td>30.75</td>\n",
              "      <td>153.76</td>\n",
              "      <td>123.01</td>\n",
              "      <td>Revendedor</td>\n",
              "      <td>Sem Desconto</td>\n",
              "      <td>Mondial</td>\n",
              "      <td>Eletroportáteis</td>\n",
              "      <td>Ventilador</td>\n",
              "      <td>Blumenau</td>\n",
              "      <td>Santa Catarina</td>\n",
              "    </tr>\n",
              "    <tr>\n",
              "      <th>3</th>\n",
              "      <td>11690</td>\n",
              "      <td>17.01</td>\n",
              "      <td>85.04</td>\n",
              "      <td>1</td>\n",
              "      <td>17.01</td>\n",
              "      <td>85.04</td>\n",
              "      <td>68.03</td>\n",
              "      <td>Loja Online</td>\n",
              "      <td>Sem Desconto</td>\n",
              "      <td>Mondial</td>\n",
              "      <td>Eletroportáteis</td>\n",
              "      <td>Ventilador</td>\n",
              "      <td>Porto Alegre</td>\n",
              "      <td>Rio Grande do Sul</td>\n",
              "    </tr>\n",
              "    <tr>\n",
              "      <th>4</th>\n",
              "      <td>16152</td>\n",
              "      <td>246.95</td>\n",
              "      <td>1234.73</td>\n",
              "      <td>1</td>\n",
              "      <td>246.95</td>\n",
              "      <td>1234.73</td>\n",
              "      <td>987.78</td>\n",
              "      <td>Loja Online</td>\n",
              "      <td>Sem Desconto</td>\n",
              "      <td>Comfee</td>\n",
              "      <td>Eletrodoméstico</td>\n",
              "      <td>Ar condicionado</td>\n",
              "      <td>Porto Alegre</td>\n",
              "      <td>Rio Grande do Sul</td>\n",
              "    </tr>\n",
              "  </tbody>\n",
              "</table>\n",
              "</div>\n",
              "      <button class=\"colab-df-convert\" onclick=\"convertToInteractive('df-aa8ff3d5-3131-4525-ab13-9848acf26aaa')\"\n",
              "              title=\"Convert this dataframe to an interactive table.\"\n",
              "              style=\"display:none;\">\n",
              "        \n",
              "  <svg xmlns=\"http://www.w3.org/2000/svg\" height=\"24px\"viewBox=\"0 0 24 24\"\n",
              "       width=\"24px\">\n",
              "    <path d=\"M0 0h24v24H0V0z\" fill=\"none\"/>\n",
              "    <path d=\"M18.56 5.44l.94 2.06.94-2.06 2.06-.94-2.06-.94-.94-2.06-.94 2.06-2.06.94zm-11 1L8.5 8.5l.94-2.06 2.06-.94-2.06-.94L8.5 2.5l-.94 2.06-2.06.94zm10 10l.94 2.06.94-2.06 2.06-.94-2.06-.94-.94-2.06-.94 2.06-2.06.94z\"/><path d=\"M17.41 7.96l-1.37-1.37c-.4-.4-.92-.59-1.43-.59-.52 0-1.04.2-1.43.59L10.3 9.45l-7.72 7.72c-.78.78-.78 2.05 0 2.83L4 21.41c.39.39.9.59 1.41.59.51 0 1.02-.2 1.41-.59l7.78-7.78 2.81-2.81c.8-.78.8-2.07 0-2.86zM5.41 20L4 18.59l7.72-7.72 1.47 1.35L5.41 20z\"/>\n",
              "  </svg>\n",
              "      </button>\n",
              "      \n",
              "  <style>\n",
              "    .colab-df-container {\n",
              "      display:flex;\n",
              "      flex-wrap:wrap;\n",
              "      gap: 12px;\n",
              "    }\n",
              "\n",
              "    .colab-df-convert {\n",
              "      background-color: #E8F0FE;\n",
              "      border: none;\n",
              "      border-radius: 50%;\n",
              "      cursor: pointer;\n",
              "      display: none;\n",
              "      fill: #1967D2;\n",
              "      height: 32px;\n",
              "      padding: 0 0 0 0;\n",
              "      width: 32px;\n",
              "    }\n",
              "\n",
              "    .colab-df-convert:hover {\n",
              "      background-color: #E2EBFA;\n",
              "      box-shadow: 0px 1px 2px rgba(60, 64, 67, 0.3), 0px 1px 3px 1px rgba(60, 64, 67, 0.15);\n",
              "      fill: #174EA6;\n",
              "    }\n",
              "\n",
              "    [theme=dark] .colab-df-convert {\n",
              "      background-color: #3B4455;\n",
              "      fill: #D2E3FC;\n",
              "    }\n",
              "\n",
              "    [theme=dark] .colab-df-convert:hover {\n",
              "      background-color: #434B5C;\n",
              "      box-shadow: 0px 1px 3px 1px rgba(0, 0, 0, 0.15);\n",
              "      filter: drop-shadow(0px 1px 2px rgba(0, 0, 0, 0.3));\n",
              "      fill: #FFFFFF;\n",
              "    }\n",
              "  </style>\n",
              "\n",
              "      <script>\n",
              "        const buttonEl =\n",
              "          document.querySelector('#df-aa8ff3d5-3131-4525-ab13-9848acf26aaa button.colab-df-convert');\n",
              "        buttonEl.style.display =\n",
              "          google.colab.kernel.accessAllowed ? 'block' : 'none';\n",
              "\n",
              "        async function convertToInteractive(key) {\n",
              "          const element = document.querySelector('#df-aa8ff3d5-3131-4525-ab13-9848acf26aaa');\n",
              "          const dataTable =\n",
              "            await google.colab.kernel.invokeFunction('convertToInteractive',\n",
              "                                                     [key], {});\n",
              "          if (!dataTable) return;\n",
              "\n",
              "          const docLinkHtml = 'Like what you see? Visit the ' +\n",
              "            '<a target=\"_blank\" href=https://colab.research.google.com/notebooks/data_table.ipynb>data table notebook</a>'\n",
              "            + ' to learn more about interactive tables.';\n",
              "          element.innerHTML = '';\n",
              "          dataTable['output_type'] = 'display_data';\n",
              "          await google.colab.output.renderOutput(dataTable, element);\n",
              "          const docLink = document.createElement('div');\n",
              "          docLink.innerHTML = docLinkHtml;\n",
              "          element.appendChild(docLink);\n",
              "        }\n",
              "      </script>\n",
              "    </div>\n",
              "  </div>\n",
              "  "
            ]
          },
          "metadata": {},
          "execution_count": 40
        }
      ]
    },
    {
      "cell_type": "code",
      "metadata": {
        "id": "d92Z12DtsWFy",
        "colab": {
          "base_uri": "https://localhost:8080/"
        },
        "outputId": "c4dfbd58-5b3f-484d-fc79-9d44754bdf72"
      },
      "source": [
        "print(dados_varejista)"
      ],
      "execution_count": 41,
      "outputs": [
        {
          "output_type": "stream",
          "name": "stdout",
          "text": [
            "[['ID Ordem' 'Custo Unit' 'Preço Venda Unit' ...\n",
            "  'Subcategoria do Produto' 'Cidade' 'Estado']\n",
            " ['10481' '13.73' '68.63' ... 'Ventilador' 'Londrina' 'Paraná']\n",
            " ['10968' '17.01' '85.04' ... 'Ventilador' 'Curitiba' 'Paraná']\n",
            " ...\n",
            " ['24997' '625.89' '2086.3' ... 'Refrigerador' 'Aparecida de Goiânia'\n",
            "  'Goiás']\n",
            " ['24998' '1043.38' '3477.94' ... 'Televisor' 'Aracajú' 'Sergipe']\n",
            " ['24999' '34.44' '114.81' ... 'Ventilador' 'Valparaiso' 'Goiás']]\n"
          ]
        }
      ]
    },
    {
      "cell_type": "code",
      "metadata": {
        "id": "_F1q-yyMudST",
        "colab": {
          "base_uri": "https://localhost:8080/",
          "height": 302
        },
        "outputId": "7c5ce319-cae3-463a-cd18-887434778d31"
      },
      "source": [
        "df_dados_varejista_pd.head()"
      ],
      "execution_count": 42,
      "outputs": [
        {
          "output_type": "execute_result",
          "data": {
            "text/plain": [
              "   ID Ordem  Custo Unit  Preço Venda Unit  Qnt Ordem  Custo da Venda  \\\n",
              "0     10481       13.73             68.63          1           13.73   \n",
              "1     10968       17.01             85.04          1           17.01   \n",
              "2     11271       30.75            153.76          1           30.75   \n",
              "3     11690       17.01             85.04          1           17.01   \n",
              "4     16152      246.95           1234.73          1          246.95   \n",
              "\n",
              "   Receita Vendas   Lucro   Canal Venda Promoção Vigente Fabricante  \\\n",
              "0           68.63   54.90  Loja Própria     Dia das Mães    Mallory   \n",
              "1           85.04   68.03   Loja Online     Sem Desconto   Britânia   \n",
              "2          153.76  123.01    Revendedor     Sem Desconto    Mondial   \n",
              "3           85.04   68.03   Loja Online     Sem Desconto    Mondial   \n",
              "4         1234.73  987.78   Loja Online     Sem Desconto     Comfee   \n",
              "\n",
              "  Categoria do Produto Subcategoria do Produto        Cidade  \\\n",
              "0      Eletroportáteis              Ventilador      Londrina   \n",
              "1      Eletroportáteis              Ventilador      Curitiba   \n",
              "2      Eletroportáteis              Ventilador      Blumenau   \n",
              "3      Eletroportáteis              Ventilador  Porto Alegre   \n",
              "4      Eletrodoméstico         Ar condicionado  Porto Alegre   \n",
              "\n",
              "              Estado  \n",
              "0             Paraná  \n",
              "1             Paraná  \n",
              "2     Santa Catarina  \n",
              "3  Rio Grande do Sul  \n",
              "4  Rio Grande do Sul  "
            ],
            "text/html": [
              "\n",
              "  <div id=\"df-d47e54c6-01b1-4b16-8a06-0068c6249f16\">\n",
              "    <div class=\"colab-df-container\">\n",
              "      <div>\n",
              "<style scoped>\n",
              "    .dataframe tbody tr th:only-of-type {\n",
              "        vertical-align: middle;\n",
              "    }\n",
              "\n",
              "    .dataframe tbody tr th {\n",
              "        vertical-align: top;\n",
              "    }\n",
              "\n",
              "    .dataframe thead th {\n",
              "        text-align: right;\n",
              "    }\n",
              "</style>\n",
              "<table border=\"1\" class=\"dataframe\">\n",
              "  <thead>\n",
              "    <tr style=\"text-align: right;\">\n",
              "      <th></th>\n",
              "      <th>ID Ordem</th>\n",
              "      <th>Custo Unit</th>\n",
              "      <th>Preço Venda Unit</th>\n",
              "      <th>Qnt Ordem</th>\n",
              "      <th>Custo da Venda</th>\n",
              "      <th>Receita Vendas</th>\n",
              "      <th>Lucro</th>\n",
              "      <th>Canal Venda</th>\n",
              "      <th>Promoção Vigente</th>\n",
              "      <th>Fabricante</th>\n",
              "      <th>Categoria do Produto</th>\n",
              "      <th>Subcategoria do Produto</th>\n",
              "      <th>Cidade</th>\n",
              "      <th>Estado</th>\n",
              "    </tr>\n",
              "  </thead>\n",
              "  <tbody>\n",
              "    <tr>\n",
              "      <th>0</th>\n",
              "      <td>10481</td>\n",
              "      <td>13.73</td>\n",
              "      <td>68.63</td>\n",
              "      <td>1</td>\n",
              "      <td>13.73</td>\n",
              "      <td>68.63</td>\n",
              "      <td>54.90</td>\n",
              "      <td>Loja Própria</td>\n",
              "      <td>Dia das Mães</td>\n",
              "      <td>Mallory</td>\n",
              "      <td>Eletroportáteis</td>\n",
              "      <td>Ventilador</td>\n",
              "      <td>Londrina</td>\n",
              "      <td>Paraná</td>\n",
              "    </tr>\n",
              "    <tr>\n",
              "      <th>1</th>\n",
              "      <td>10968</td>\n",
              "      <td>17.01</td>\n",
              "      <td>85.04</td>\n",
              "      <td>1</td>\n",
              "      <td>17.01</td>\n",
              "      <td>85.04</td>\n",
              "      <td>68.03</td>\n",
              "      <td>Loja Online</td>\n",
              "      <td>Sem Desconto</td>\n",
              "      <td>Britânia</td>\n",
              "      <td>Eletroportáteis</td>\n",
              "      <td>Ventilador</td>\n",
              "      <td>Curitiba</td>\n",
              "      <td>Paraná</td>\n",
              "    </tr>\n",
              "    <tr>\n",
              "      <th>2</th>\n",
              "      <td>11271</td>\n",
              "      <td>30.75</td>\n",
              "      <td>153.76</td>\n",
              "      <td>1</td>\n",
              "      <td>30.75</td>\n",
              "      <td>153.76</td>\n",
              "      <td>123.01</td>\n",
              "      <td>Revendedor</td>\n",
              "      <td>Sem Desconto</td>\n",
              "      <td>Mondial</td>\n",
              "      <td>Eletroportáteis</td>\n",
              "      <td>Ventilador</td>\n",
              "      <td>Blumenau</td>\n",
              "      <td>Santa Catarina</td>\n",
              "    </tr>\n",
              "    <tr>\n",
              "      <th>3</th>\n",
              "      <td>11690</td>\n",
              "      <td>17.01</td>\n",
              "      <td>85.04</td>\n",
              "      <td>1</td>\n",
              "      <td>17.01</td>\n",
              "      <td>85.04</td>\n",
              "      <td>68.03</td>\n",
              "      <td>Loja Online</td>\n",
              "      <td>Sem Desconto</td>\n",
              "      <td>Mondial</td>\n",
              "      <td>Eletroportáteis</td>\n",
              "      <td>Ventilador</td>\n",
              "      <td>Porto Alegre</td>\n",
              "      <td>Rio Grande do Sul</td>\n",
              "    </tr>\n",
              "    <tr>\n",
              "      <th>4</th>\n",
              "      <td>16152</td>\n",
              "      <td>246.95</td>\n",
              "      <td>1234.73</td>\n",
              "      <td>1</td>\n",
              "      <td>246.95</td>\n",
              "      <td>1234.73</td>\n",
              "      <td>987.78</td>\n",
              "      <td>Loja Online</td>\n",
              "      <td>Sem Desconto</td>\n",
              "      <td>Comfee</td>\n",
              "      <td>Eletrodoméstico</td>\n",
              "      <td>Ar condicionado</td>\n",
              "      <td>Porto Alegre</td>\n",
              "      <td>Rio Grande do Sul</td>\n",
              "    </tr>\n",
              "  </tbody>\n",
              "</table>\n",
              "</div>\n",
              "      <button class=\"colab-df-convert\" onclick=\"convertToInteractive('df-d47e54c6-01b1-4b16-8a06-0068c6249f16')\"\n",
              "              title=\"Convert this dataframe to an interactive table.\"\n",
              "              style=\"display:none;\">\n",
              "        \n",
              "  <svg xmlns=\"http://www.w3.org/2000/svg\" height=\"24px\"viewBox=\"0 0 24 24\"\n",
              "       width=\"24px\">\n",
              "    <path d=\"M0 0h24v24H0V0z\" fill=\"none\"/>\n",
              "    <path d=\"M18.56 5.44l.94 2.06.94-2.06 2.06-.94-2.06-.94-.94-2.06-.94 2.06-2.06.94zm-11 1L8.5 8.5l.94-2.06 2.06-.94-2.06-.94L8.5 2.5l-.94 2.06-2.06.94zm10 10l.94 2.06.94-2.06 2.06-.94-2.06-.94-.94-2.06-.94 2.06-2.06.94z\"/><path d=\"M17.41 7.96l-1.37-1.37c-.4-.4-.92-.59-1.43-.59-.52 0-1.04.2-1.43.59L10.3 9.45l-7.72 7.72c-.78.78-.78 2.05 0 2.83L4 21.41c.39.39.9.59 1.41.59.51 0 1.02-.2 1.41-.59l7.78-7.78 2.81-2.81c.8-.78.8-2.07 0-2.86zM5.41 20L4 18.59l7.72-7.72 1.47 1.35L5.41 20z\"/>\n",
              "  </svg>\n",
              "      </button>\n",
              "      \n",
              "  <style>\n",
              "    .colab-df-container {\n",
              "      display:flex;\n",
              "      flex-wrap:wrap;\n",
              "      gap: 12px;\n",
              "    }\n",
              "\n",
              "    .colab-df-convert {\n",
              "      background-color: #E8F0FE;\n",
              "      border: none;\n",
              "      border-radius: 50%;\n",
              "      cursor: pointer;\n",
              "      display: none;\n",
              "      fill: #1967D2;\n",
              "      height: 32px;\n",
              "      padding: 0 0 0 0;\n",
              "      width: 32px;\n",
              "    }\n",
              "\n",
              "    .colab-df-convert:hover {\n",
              "      background-color: #E2EBFA;\n",
              "      box-shadow: 0px 1px 2px rgba(60, 64, 67, 0.3), 0px 1px 3px 1px rgba(60, 64, 67, 0.15);\n",
              "      fill: #174EA6;\n",
              "    }\n",
              "\n",
              "    [theme=dark] .colab-df-convert {\n",
              "      background-color: #3B4455;\n",
              "      fill: #D2E3FC;\n",
              "    }\n",
              "\n",
              "    [theme=dark] .colab-df-convert:hover {\n",
              "      background-color: #434B5C;\n",
              "      box-shadow: 0px 1px 3px 1px rgba(0, 0, 0, 0.15);\n",
              "      filter: drop-shadow(0px 1px 2px rgba(0, 0, 0, 0.3));\n",
              "      fill: #FFFFFF;\n",
              "    }\n",
              "  </style>\n",
              "\n",
              "      <script>\n",
              "        const buttonEl =\n",
              "          document.querySelector('#df-d47e54c6-01b1-4b16-8a06-0068c6249f16 button.colab-df-convert');\n",
              "        buttonEl.style.display =\n",
              "          google.colab.kernel.accessAllowed ? 'block' : 'none';\n",
              "\n",
              "        async function convertToInteractive(key) {\n",
              "          const element = document.querySelector('#df-d47e54c6-01b1-4b16-8a06-0068c6249f16');\n",
              "          const dataTable =\n",
              "            await google.colab.kernel.invokeFunction('convertToInteractive',\n",
              "                                                     [key], {});\n",
              "          if (!dataTable) return;\n",
              "\n",
              "          const docLinkHtml = 'Like what you see? Visit the ' +\n",
              "            '<a target=\"_blank\" href=https://colab.research.google.com/notebooks/data_table.ipynb>data table notebook</a>'\n",
              "            + ' to learn more about interactive tables.';\n",
              "          element.innerHTML = '';\n",
              "          dataTable['output_type'] = 'display_data';\n",
              "          await google.colab.output.renderOutput(dataTable, element);\n",
              "          const docLink = document.createElement('div');\n",
              "          docLink.innerHTML = docLinkHtml;\n",
              "          element.appendChild(docLink);\n",
              "        }\n",
              "      </script>\n",
              "    </div>\n",
              "  </div>\n",
              "  "
            ]
          },
          "metadata": {},
          "execution_count": 42
        }
      ]
    },
    {
      "cell_type": "markdown",
      "metadata": {
        "id": "096tuKXSfLC-"
      },
      "source": [
        "**Canal de venda mais frequente**"
      ]
    },
    {
      "cell_type": "code",
      "metadata": {
        "id": "hyxvhJTGu_dY",
        "colab": {
          "base_uri": "https://localhost:8080/"
        },
        "outputId": "5ed34474-b3c4-43d3-a45b-a1958bbc3a91"
      },
      "source": [
        "#testes meus\n",
        "\n",
        "df_dados_varejista_pd[\"Canal Venda\"].value_counts().idxmax()\n",
        "df_dados_varejista_pd[\"Canal Venda\"].value_counts().max()"
      ],
      "execution_count": 43,
      "outputs": [
        {
          "output_type": "execute_result",
          "data": {
            "text/plain": [
              "5050"
            ]
          },
          "metadata": {},
          "execution_count": 43
        }
      ]
    },
    {
      "cell_type": "code",
      "metadata": {
        "id": "AN-OjPKiwDBY"
      },
      "source": [
        "canal_mais_frequente = df_dados_varejista_pd[\"Canal Venda\"].value_counts()\n",
        "label = df_dados_varejista_pd['Canal Venda'].unique()\n"
      ],
      "execution_count": 44,
      "outputs": []
    },
    {
      "cell_type": "code",
      "metadata": {
        "id": "-uXRI_nyvCCz",
        "colab": {
          "base_uri": "https://localhost:8080/",
          "height": 521
        },
        "outputId": "100e0f59-ff91-437d-fe04-899722aba86e"
      },
      "source": [
        "import matplotlib.pyplot as plt\n",
        "colors = ['#FA6F0B', '#2376FA', '#23FA94']\n",
        "\n",
        "plt.figure(figsize=(10,6))\n",
        "plt.pie(canal_mais_frequente, labels=label, \n",
        "        autopct = \"%1.1f%%\",\n",
        "        shadow = True,\n",
        "        explode = (0.1, 0, 0),\n",
        "        colors = colors,\n",
        "        startangle = 115, wedgeprops={'edgecolor': \"black\"})\n",
        "plt.title(\"Canais de Vendas Varejistas\")\n",
        "plt.show()"
      ],
      "execution_count": 45,
      "outputs": [
        {
          "output_type": "display_data",
          "data": {
            "text/plain": [
              "<Figure size 1000x600 with 1 Axes>"
            ],
            "image/png": "[encoded data removed]"
          },
          "metadata": {}
        }
      ]
    },
    {
      "cell_type": "markdown",
      "metadata": {
        "id": "QczNPOdhfJFW"
      },
      "source": [
        "Podemos perceber que o canal de vendas mais ultilizado foi o de Lojas Próprias."
      ]
    },
    {
      "cell_type": "markdown",
      "metadata": {
        "id": "ovtT02JAfaFH"
      },
      "source": [
        "**Data comercial de maior influencia nos produtos**"
      ]
    },
    {
      "cell_type": "code",
      "source": [
        "df_dados_varejista_pd.columns"
      ],
      "metadata": {
        "colab": {
          "base_uri": "https://localhost:8080/"
        },
        "id": "Cdjos38622iq",
        "outputId": "d06e7ed5-4b96-4dac-c198-1a6ffa466ab9"
      },
      "execution_count": 46,
      "outputs": [
        {
          "output_type": "execute_result",
          "data": {
            "text/plain": [
              "Index(['ID Ordem', 'Custo Unit', 'Preço Venda Unit', 'Qnt Ordem',\n",
              "       'Custo da Venda', 'Receita Vendas', 'Lucro', 'Canal Venda',\n",
              "       'Promoção Vigente', 'Fabricante', 'Categoria do Produto',\n",
              "       'Subcategoria do Produto', 'Cidade', 'Estado'],\n",
              "      dtype='object')"
            ]
          },
          "metadata": {},
          "execution_count": 46
        }
      ]
    },
    {
      "cell_type": "code",
      "metadata": {
        "id": "AWAuxOigvbbV",
        "colab": {
          "base_uri": "https://localhost:8080/"
        },
        "outputId": "83be83ef-5adb-4f15-84eb-e6367136f4be"
      },
      "source": [
        "counter_data_comer = df_dados_varejista_pd[\"Promoção Vigente\"].value_counts()\n",
        "counter_data_comer\n"
      ],
      "execution_count": 47,
      "outputs": [
        {
          "output_type": "execute_result",
          "data": {
            "text/plain": [
              "Sem Desconto    12328\n",
              "Dia das Mães     1345\n",
              "Black Friday     1327\n",
              "Name: Promoção Vigente, dtype: int64"
            ]
          },
          "metadata": {},
          "execution_count": 47
        }
      ]
    },
    {
      "cell_type": "code",
      "metadata": {
        "id": "Q6PFSP7tgQAe",
        "colab": {
          "base_uri": "https://localhost:8080/",
          "height": 648
        },
        "outputId": "18a061ea-e6e3-423a-b79a-238e34a49f13"
      },
      "source": [
        "plt.figure(figsize=(10,6))\n",
        "colors = ['#FA6F0B', '#2376FA', '#23FA94']\n",
        "x = list(counter_data_comer.keys())\n",
        "y = list(counter_data_comer.values)\n",
        "plt.bar(x, y, color = colors)\n",
        "plt.xlabel(\"Promoção Vigente\")\n",
        "plt.ylabel(\"Quantidade de produtos Vendidos\")\n",
        "plt.title(\"Quantidade de produtos em promoção\")\n",
        "plt.xticks(rotation=45)\n",
        "plt.show\n"
      ],
      "execution_count": 57,
      "outputs": [
        {
          "output_type": "execute_result",
          "data": {
            "text/plain": [
              "<function matplotlib.pyplot.show(close=None, block=None)>"
            ]
          },
          "metadata": {},
          "execution_count": 57
        },
        {
          "output_type": "display_data",
          "data": {
            "text/plain": [
              "<Figure size 1000x600 with 1 Axes>"
            ],
            "image/png": "[encoded data removed]"
          },
          "metadata": {}
        }
      ]
    },
    {
      "cell_type": "markdown",
      "metadata": {
        "id": "JJtSlFNihWft"
      },
      "source": [
        "**Representação dos eletrodomésticos**"
      ]
    },
    {
      "cell_type": "code",
      "metadata": {
        "id": "GwXVjof9gtO0",
        "colab": {
          "base_uri": "https://localhost:8080/"
        },
        "outputId": "2bb8e44e-d0fc-4145-bc9f-6d60a2b5225f"
      },
      "source": [
        "eletrodomestico = df_dados_varejista_pd[\"Categoria do Produto\"].value_counts()\n",
        "label_eletro = df_dados_varejista_pd['Categoria do Produto'].unique()\n",
        "\n",
        "eletrodomestico\n"
      ],
      "execution_count": 49,
      "outputs": [
        {
          "output_type": "execute_result",
          "data": {
            "text/plain": [
              "Eletroportáteis    7113\n",
              "Eletrodoméstico    5905\n",
              "TVs e Áudios       1982\n",
              "Name: Categoria do Produto, dtype: int64"
            ]
          },
          "metadata": {},
          "execution_count": 49
        }
      ]
    },
    {
      "cell_type": "code",
      "source": [
        "lista_explode = list(eletrodomestico.keys())\n",
        "index_max = lista_explode.index('Eletrodoméstico')\n",
        "explode = [0]*len(lista_explode)\n",
        "explode[index_max] = 0.1\n",
        "\n",
        "index_max\n"
      ],
      "metadata": {
        "colab": {
          "base_uri": "https://localhost:8080/"
        },
        "id": "VrbK1SX1-1wj",
        "outputId": "38838e6c-6798-4751-a2d3-2a5f3be0f655"
      },
      "execution_count": 50,
      "outputs": [
        {
          "output_type": "execute_result",
          "data": {
            "text/plain": [
              "1"
            ]
          },
          "metadata": {},
          "execution_count": 50
        }
      ]
    },
    {
      "cell_type": "code",
      "metadata": {
        "id": "TfUuIj4PiKQt",
        "colab": {
          "base_uri": "https://localhost:8080/",
          "height": 521
        },
        "outputId": "a3504d22-74ae-4080-e8f5-8698c85e63f1"
      },
      "source": [
        "colors = ['#FA6F0B', '#2376FA', '#23FA94']\n",
        "\n",
        "plt.figure(figsize=(10,6))\n",
        "plt.pie(eletrodomestico, labels=label_eletro, \n",
        "        autopct = \"%1.1f%%\",\n",
        "        shadow = True,\n",
        "        explode = explode,\n",
        "        colors = colors,\n",
        "        startangle = 115, wedgeprops={'edgecolor': \"black\"})\n",
        "plt.title(\"Porcentagem de eletrodomésticos\")\n",
        "plt.show()"
      ],
      "execution_count": 51,
      "outputs": [
        {
          "output_type": "display_data",
          "data": {
            "text/plain": [
              "<Figure size 1000x600 with 1 Axes>"
            ],
            "image/png": "[encoded data removed]"
          },
          "metadata": {}
        }
      ]
    },
    {
      "cell_type": "code",
      "metadata": {
        "id": "TSfJRGiYiUGZ"
      },
      "source": [],
      "execution_count": 51,
      "outputs": []
    },
    {
      "cell_type": "markdown",
      "metadata": {
        "id": "blUYFDkTHXp9"
      },
      "source": [
        "### Questão 2:\n",
        "\n"
      ]
    },
    {
      "cell_type": "markdown",
      "metadata": {
        "id": "VCkw3ZhYHd8T"
      },
      "source": [
        "Além das análises feitas anteriormente, o gerente de vendas da **Voitto Magazine** deseja ter uma visão geral sobre o comportamento do *lucro* e da *receita de vendas*:\n",
        "\n",
        "* Qual foi o lucro e a receita de vendas média, máxima, mínima e desvio padrão? \n",
        "* Como os valores se comportam em um histograma juntamente com a normal? \n"
      ]
    },
    {
      "cell_type": "markdown",
      "metadata": {
        "id": "i74nhhHYNTll"
      },
      "source": [
        "**Importe a biblioteca *stats* do Scipy**"
      ]
    },
    {
      "cell_type": "code",
      "metadata": {
        "id": "1OxD-V70MyXc"
      },
      "source": [
        "import numpy as np\n",
        "from scipy import stats"
      ],
      "execution_count": 52,
      "outputs": []
    },
    {
      "cell_type": "markdown",
      "metadata": {
        "id": "tC88zosXNhQV"
      },
      "source": [
        "**Lucro**"
      ]
    },
    {
      "cell_type": "code",
      "metadata": {
        "id": "wW8CTCkAGsev",
        "colab": {
          "base_uri": "https://localhost:8080/"
        },
        "outputId": "9241a98a-3721-4299-d302-11270ea1b096"
      },
      "source": [
        "print(\"---------- Sobre o Lucro ----------\")\n",
        "lucro = df_dados_varejista_pd[\"Lucro\"]\n",
        "print(\"Lucro máximo: \", lucro.max())\n",
        "print(\"Lucro mínimo: \", lucro.min())\n",
        "print(\"Média do Lucro: \", round(lucro.mean(), 2))\n",
        "print(\"Desvio Padrão do Lucro: \", round(lucro.std(), 2))"
      ],
      "execution_count": 56,
      "outputs": [
        {
          "output_type": "stream",
          "name": "stdout",
          "text": [
            "---------- Obre o Lucro ----------\n",
            "Lucro máximo:  117807.6\n",
            "Lucro mínimo:  36.01\n",
            "Média do Lucro:  8906.52\n",
            "Desvio Padrão do Lucro:  12852.73\n"
          ]
        }
      ]
    },
    {
      "cell_type": "code",
      "metadata": {
        "id": "eeB-VHq8Jo3Y",
        "colab": {
          "base_uri": "https://localhost:8080/",
          "height": 581
        },
        "outputId": "854a9e21-71eb-45b8-89ac-1fee14b4a0e3"
      },
      "source": [
        "plt.figure(figsize=(10,6))\n",
        "plt.hist(lucro, color = 'deepskyblue', label=\"Histograma\", density=True, ec='k')\n",
        "\n",
        "xmin, xmax = plt.xlim()\n",
        "x = np.linspace(xmin, xmax, 100)\n",
        "\n",
        "normal = stats.norm.pdf(x, np.mean(lucro), np.std(lucro))\n",
        "\n",
        "plt.plot(x, normal, '-o', color='r', label=\"Normal\")\n",
        "\n",
        "plt.xlabel(\"Lucro\")\n",
        "plt.ylabel(\"Frequência\")\n",
        "plt.title(\"Histograma do Lucro\")\n",
        "plt.legend(loc='best')\n",
        "\n",
        "plt.show"
      ],
      "execution_count": 60,
      "outputs": [
        {
          "output_type": "execute_result",
          "data": {
            "text/plain": [
              "<function matplotlib.pyplot.show(close=None, block=None)>"
            ]
          },
          "metadata": {},
          "execution_count": 60
        },
        {
          "output_type": "display_data",
          "data": {
            "text/plain": [
              "<Figure size 1000x600 with 1 Axes>"
            ],
            "image/png": "[encoded data removed]"
          },
          "metadata": {}
        }
      ]
    },
    {
      "cell_type": "code",
      "source": [
        "#Filtrando para lucros menores que 60000\n",
        "\n",
        "plt.figure(figsize=(10,6))\n",
        "plt.hist(lucro[lucro < 60000], color = 'deepskyblue', label=\"Histograma\", density=True, ec='k')\n",
        "\n",
        "xmin, xmax = plt.xlim()\n",
        "x = np.linspace(xmin, xmax, 100)\n",
        "\n",
        "normal = stats.norm.pdf(x, np.mean(lucro[lucro < 60000]), np.std(lucro[lucro < 60000]))\n",
        "\n",
        "plt.plot(x, normal, '-o', color='r', label=\"Normal\")\n",
        "\n",
        "plt.xlabel(\"Lucro\")\n",
        "plt.ylabel(\"Frequência\")\n",
        "plt.title(\"Histograma do Lucro\")\n",
        "plt.legend(loc='best')\n",
        "\n",
        "plt.show"
      ],
      "metadata": {
        "colab": {
          "base_uri": "https://localhost:8080/",
          "height": 581
        },
        "id": "ALZeeBLIG0qe",
        "outputId": "6102a22a-a8c1-4b54-f16a-b666244069a8"
      },
      "execution_count": 61,
      "outputs": [
        {
          "output_type": "execute_result",
          "data": {
            "text/plain": [
              "<function matplotlib.pyplot.show(close=None, block=None)>"
            ]
          },
          "metadata": {},
          "execution_count": 61
        },
        {
          "output_type": "display_data",
          "data": {
            "text/plain": [
              "<Figure size 1000x600 with 1 Axes>"
            ],
            "image/png": "[encoded data removed]"
          },
          "metadata": {}
        }
      ]
    },
    {
      "cell_type": "markdown",
      "metadata": {
        "id": "PvLtOC6xNw9X"
      },
      "source": [
        "**Receita de vendas**"
      ]
    },
    {
      "cell_type": "code",
      "metadata": {
        "id": "s3Yy5fgBLGOw",
        "colab": {
          "base_uri": "https://localhost:8080/"
        },
        "outputId": "a0cbb9ce-8939-4199-db6f-11f65557bee9"
      },
      "source": [
        "print(\"---------- Sobre o Lucro ----------\")\n",
        "receita = df_dados_varejista_pd[\"Receita Vendas\"]\n",
        "print(\"Receita máximo: \", receita.max())\n",
        "print(\"Receita mínimo: \", receita.min())\n",
        "print(\"Média do Receita: \", round(receita.mean(), 2))\n",
        "print(\"Desvio Padrão do Receita: \", round(receita.std(), 2))"
      ],
      "execution_count": 62,
      "outputs": [
        {
          "output_type": "stream",
          "name": "stdout",
          "text": [
            "---------- Sobre o Lucro ----------\n",
            "Receita máximo:  168296.4\n",
            "Receita mínimo:  51.45\n",
            "Média do Receita:  12054.17\n",
            "Desvio Padrão do Receita:  17690.96\n"
          ]
        }
      ]
    },
    {
      "cell_type": "code",
      "metadata": {
        "id": "GQ0qEM-0N4pV",
        "colab": {
          "base_uri": "https://localhost:8080/",
          "height": 581
        },
        "outputId": "321a344d-1865-449d-e332-bda2c9a6879e"
      },
      "source": [
        "plt.figure(figsize=(10,6))\n",
        "plt.hist(receita, color = 'deepskyblue', label=\"Histograma\", density=True, ec='k')\n",
        "\n",
        "xmin, xmax = plt.xlim()\n",
        "x = np.linspace(xmin, xmax, 100)\n",
        "\n",
        "normal = stats.norm.pdf(x, np.mean(receita), np.std(receita))\n",
        "\n",
        "plt.plot(x, normal, '-o', color='r', label=\"Normal\")\n",
        "\n",
        "plt.xlabel(\"Receita\")\n",
        "plt.ylabel(\"Frequência\")\n",
        "plt.title(\"Histograma do Receita\")\n",
        "plt.legend(loc='best')\n",
        "\n",
        "plt.show"
      ],
      "execution_count": 63,
      "outputs": [
        {
          "output_type": "execute_result",
          "data": {
            "text/plain": [
              "<function matplotlib.pyplot.show(close=None, block=None)>"
            ]
          },
          "metadata": {},
          "execution_count": 63
        },
        {
          "output_type": "display_data",
          "data": {
            "text/plain": [
              "<Figure size 1000x600 with 1 Axes>"
            ],
            "image/png": "[encoded data removed]"
          },
          "metadata": {}
        }
      ]
    },
    {
      "cell_type": "code",
      "source": [
        "#Filtrando para Receita menores que 80000\n",
        "\n",
        "plt.figure(figsize=(10,6))\n",
        "plt.hist(receita[receita < 80000], color = 'deepskyblue', \n",
        "         label=\"Histograma\", density=True, ec='k', bins=30)\n",
        "\n",
        "xmin, xmax = plt.xlim()\n",
        "x = np.linspace(xmin, xmax, 100)\n",
        "\n",
        "normal = stats.norm.pdf(x, np.mean(receita[receita < 80000]), np.std(receita[receita < 80000]))\n",
        "\n",
        "plt.plot(x, normal, '-o', color='r', label=\"Normal\")\n",
        "\n",
        "plt.xlabel(\"Receita\")\n",
        "plt.ylabel(\"Frequência\")\n",
        "plt.title(\"Histograma do Receita\")\n",
        "plt.legend(loc='best')\n",
        "\n",
        "plt.show"
      ],
      "metadata": {
        "colab": {
          "base_uri": "https://localhost:8080/",
          "height": 581
        },
        "id": "srX-DPMUHu1T",
        "outputId": "aa63cbf8-664b-4184-e483-a437836cf676"
      },
      "execution_count": 71,
      "outputs": [
        {
          "output_type": "execute_result",
          "data": {
            "text/plain": [
              "<function matplotlib.pyplot.show(close=None, block=None)>"
            ]
          },
          "metadata": {},
          "execution_count": 71
        },
        {
          "output_type": "display_data",
          "data": {
            "text/plain": [
              "<Figure size 1000x600 with 1 Axes>"
            ],
            "image/png": "[encoded data removed]"
          },
          "metadata": {}
        }
      ]
    },
    {
      "cell_type": "code",
      "source": [],
      "metadata": {
        "id": "GuuNiCAWIeiM"
      },
      "execution_count": null,
      "outputs": []
    }
  ]
}