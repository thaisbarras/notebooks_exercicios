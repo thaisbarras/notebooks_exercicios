{
  "nbformat": 4,
  "nbformat_minor": 0,
  "metadata": {
    "colab": {
      "provenance": [],
      "include_colab_link": true
    },
    "kernelspec": {
      "name": "python3",
      "display_name": "Python 3"
    },
    "language_info": {
      "name": "python"
    }
  },
  "cells": [
    {
      "cell_type": "markdown",
      "metadata": {
        "id": "view-in-github",
        "colab_type": "text"
      },
      "source": [
        "<a href=\"https://colab.research.google.com/github/thaisbarras/notebooks_exercicios/blob/main/Atividade_Semana14.ipynb\" target=\"_parent\"><img src=\"https://colab.research.google.com/assets/colab-badge.svg\" alt=\"Open In Colab\"/></a>"
      ]
    },
    {
      "cell_type": "markdown",
      "source": [
        "# Atividade da Semana 14\n",
        "\n",
        "Esta é atividade semanal sugerida. Você deverá preenchê-la e enviá-la dentro do prazo (até o fechamento da semana corrente)."
      ],
      "metadata": {
        "id": "bPISwE0Is_Pu"
      }
    },
    {
      "cell_type": "code",
      "source": [
        "# Instalando o pacote 'ipeadatapy'\n",
        "!pip install ipeadatapy"
      ],
      "metadata": {
        "id": "LhLlbeEeUTSV",
        "colab": {
          "base_uri": "https://localhost:8080/"
        },
        "outputId": "88335242-5784-44e8-9478-55c7ae691d16"
      },
      "execution_count": 1,
      "outputs": [
        {
          "output_type": "stream",
          "name": "stdout",
          "text": [
            "Looking in indexes: https://pypi.org/simple, https://us-python.pkg.dev/colab-wheels/public/simple/\n",
            "Collecting ipeadatapy\n",
            "  Downloading ipeadatapy-0.1.9-py3-none-any.whl (10 kB)\n",
            "Requirement already satisfied: pandas in /usr/local/lib/python3.10/dist-packages (from ipeadatapy) (1.5.3)\n",
            "Requirement already satisfied: requests in /usr/local/lib/python3.10/dist-packages (from ipeadatapy) (2.27.1)\n",
            "Requirement already satisfied: python-dateutil>=2.8.1 in /usr/local/lib/python3.10/dist-packages (from pandas->ipeadatapy) (2.8.2)\n",
            "Requirement already satisfied: pytz>=2020.1 in /usr/local/lib/python3.10/dist-packages (from pandas->ipeadatapy) (2022.7.1)\n",
            "Requirement already satisfied: numpy>=1.21.0 in /usr/local/lib/python3.10/dist-packages (from pandas->ipeadatapy) (1.22.4)\n",
            "Requirement already satisfied: urllib3<1.27,>=1.21.1 in /usr/local/lib/python3.10/dist-packages (from requests->ipeadatapy) (1.26.15)\n",
            "Requirement already satisfied: certifi>=2017.4.17 in /usr/local/lib/python3.10/dist-packages (from requests->ipeadatapy) (2022.12.7)\n",
            "Requirement already satisfied: charset-normalizer~=2.0.0 in /usr/local/lib/python3.10/dist-packages (from requests->ipeadatapy) (2.0.12)\n",
            "Requirement already satisfied: idna<4,>=2.5 in /usr/local/lib/python3.10/dist-packages (from requests->ipeadatapy) (3.4)\n",
            "Requirement already satisfied: six>=1.5 in /usr/local/lib/python3.10/dist-packages (from python-dateutil>=2.8.1->pandas->ipeadatapy) (1.16.0)\n",
            "Installing collected packages: ipeadatapy\n",
            "Successfully installed ipeadatapy-0.1.9\n"
          ]
        }
      ]
    },
    {
      "cell_type": "code",
      "execution_count": 7,
      "metadata": {
        "id": "izFFVN2Nst-F",
        "colab": {
          "base_uri": "https://localhost:8080/",
          "height": 206
        },
        "outputId": "834a5305-da3d-4b18-b10c-8152aa2bfd78"
      },
      "outputs": [
        {
          "output_type": "execute_result",
          "data": {
            "text/plain": [
              "   emplacamentos         ipi\n",
              "0       149041.0  396.803197\n",
              "1       129782.0  294.148084\n",
              "2       172842.0  316.189768\n",
              "3       178803.0  460.560847\n",
              "4       164415.0  388.908702"
            ],
            "text/html": [
              "\n",
              "  <div id=\"df-8287eb67-5b7d-49b4-b85c-431d1e499f1c\">\n",
              "    <div class=\"colab-df-container\">\n",
              "      <div>\n",
              "<style scoped>\n",
              "    .dataframe tbody tr th:only-of-type {\n",
              "        vertical-align: middle;\n",
              "    }\n",
              "\n",
              "    .dataframe tbody tr th {\n",
              "        vertical-align: top;\n",
              "    }\n",
              "\n",
              "    .dataframe thead th {\n",
              "        text-align: right;\n",
              "    }\n",
              "</style>\n",
              "<table border=\"1\" class=\"dataframe\">\n",
              "  <thead>\n",
              "    <tr style=\"text-align: right;\">\n",
              "      <th></th>\n",
              "      <th>emplacamentos</th>\n",
              "      <th>ipi</th>\n",
              "    </tr>\n",
              "  </thead>\n",
              "  <tbody>\n",
              "    <tr>\n",
              "      <th>0</th>\n",
              "      <td>149041.0</td>\n",
              "      <td>396.803197</td>\n",
              "    </tr>\n",
              "    <tr>\n",
              "      <th>1</th>\n",
              "      <td>129782.0</td>\n",
              "      <td>294.148084</td>\n",
              "    </tr>\n",
              "    <tr>\n",
              "      <th>2</th>\n",
              "      <td>172842.0</td>\n",
              "      <td>316.189768</td>\n",
              "    </tr>\n",
              "    <tr>\n",
              "      <th>3</th>\n",
              "      <td>178803.0</td>\n",
              "      <td>460.560847</td>\n",
              "    </tr>\n",
              "    <tr>\n",
              "      <th>4</th>\n",
              "      <td>164415.0</td>\n",
              "      <td>388.908702</td>\n",
              "    </tr>\n",
              "  </tbody>\n",
              "</table>\n",
              "</div>\n",
              "      <button class=\"colab-df-convert\" onclick=\"convertToInteractive('df-8287eb67-5b7d-49b4-b85c-431d1e499f1c')\"\n",
              "              title=\"Convert this dataframe to an interactive table.\"\n",
              "              style=\"display:none;\">\n",
              "        \n",
              "  <svg xmlns=\"http://www.w3.org/2000/svg\" height=\"24px\"viewBox=\"0 0 24 24\"\n",
              "       width=\"24px\">\n",
              "    <path d=\"M0 0h24v24H0V0z\" fill=\"none\"/>\n",
              "    <path d=\"M18.56 5.44l.94 2.06.94-2.06 2.06-.94-2.06-.94-.94-2.06-.94 2.06-2.06.94zm-11 1L8.5 8.5l.94-2.06 2.06-.94-2.06-.94L8.5 2.5l-.94 2.06-2.06.94zm10 10l.94 2.06.94-2.06 2.06-.94-2.06-.94-.94-2.06-.94 2.06-2.06.94z\"/><path d=\"M17.41 7.96l-1.37-1.37c-.4-.4-.92-.59-1.43-.59-.52 0-1.04.2-1.43.59L10.3 9.45l-7.72 7.72c-.78.78-.78 2.05 0 2.83L4 21.41c.39.39.9.59 1.41.59.51 0 1.02-.2 1.41-.59l7.78-7.78 2.81-2.81c.8-.78.8-2.07 0-2.86zM5.41 20L4 18.59l7.72-7.72 1.47 1.35L5.41 20z\"/>\n",
              "  </svg>\n",
              "      </button>\n",
              "      \n",
              "  <style>\n",
              "    .colab-df-container {\n",
              "      display:flex;\n",
              "      flex-wrap:wrap;\n",
              "      gap: 12px;\n",
              "    }\n",
              "\n",
              "    .colab-df-convert {\n",
              "      background-color: #E8F0FE;\n",
              "      border: none;\n",
              "      border-radius: 50%;\n",
              "      cursor: pointer;\n",
              "      display: none;\n",
              "      fill: #1967D2;\n",
              "      height: 32px;\n",
              "      padding: 0 0 0 0;\n",
              "      width: 32px;\n",
              "    }\n",
              "\n",
              "    .colab-df-convert:hover {\n",
              "      background-color: #E2EBFA;\n",
              "      box-shadow: 0px 1px 2px rgba(60, 64, 67, 0.3), 0px 1px 3px 1px rgba(60, 64, 67, 0.15);\n",
              "      fill: #174EA6;\n",
              "    }\n",
              "\n",
              "    [theme=dark] .colab-df-convert {\n",
              "      background-color: #3B4455;\n",
              "      fill: #D2E3FC;\n",
              "    }\n",
              "\n",
              "    [theme=dark] .colab-df-convert:hover {\n",
              "      background-color: #434B5C;\n",
              "      box-shadow: 0px 1px 3px 1px rgba(0, 0, 0, 0.15);\n",
              "      filter: drop-shadow(0px 1px 2px rgba(0, 0, 0, 0.3));\n",
              "      fill: #FFFFFF;\n",
              "    }\n",
              "  </style>\n",
              "\n",
              "      <script>\n",
              "        const buttonEl =\n",
              "          document.querySelector('#df-8287eb67-5b7d-49b4-b85c-431d1e499f1c button.colab-df-convert');\n",
              "        buttonEl.style.display =\n",
              "          google.colab.kernel.accessAllowed ? 'block' : 'none';\n",
              "\n",
              "        async function convertToInteractive(key) {\n",
              "          const element = document.querySelector('#df-8287eb67-5b7d-49b4-b85c-431d1e499f1c');\n",
              "          const dataTable =\n",
              "            await google.colab.kernel.invokeFunction('convertToInteractive',\n",
              "                                                     [key], {});\n",
              "          if (!dataTable) return;\n",
              "\n",
              "          const docLinkHtml = 'Like what you see? Visit the ' +\n",
              "            '<a target=\"_blank\" href=https://colab.research.google.com/notebooks/data_table.ipynb>data table notebook</a>'\n",
              "            + ' to learn more about interactive tables.';\n",
              "          element.innerHTML = '';\n",
              "          dataTable['output_type'] = 'display_data';\n",
              "          await google.colab.output.renderOutput(dataTable, element);\n",
              "          const docLink = document.createElement('div');\n",
              "          docLink.innerHTML = docLinkHtml;\n",
              "          element.appendChild(docLink);\n",
              "        }\n",
              "      </script>\n",
              "    </div>\n",
              "  </div>\n",
              "  "
            ]
          },
          "metadata": {},
          "execution_count": 7
        }
      ],
      "source": [
        "# CAPTURA DE DADOS\n",
        "# (NAO ALTERE ESSE SCRIPT)\n",
        "\n",
        "# Carregando pacotes\n",
        "import pandas as pd\n",
        "import ipeadatapy\n",
        "import matplotlib.pyplot as plt\n",
        "\n",
        "# Obtendo serie com dados sobre emplacamento de veículos\n",
        "emplacamentos = ipeadatapy.timeseries('FENABRAVE12_VENDAUTO12')\n",
        "emplacamentos.reset_index(inplace=True)\n",
        "emplacamentos = emplacamentos.loc[(emplacamentos[\"DATE\"] >= \"2018-01-01\") & (emplacamentos[\"DATE\"] < \"2023-01-01\"),\n",
        "                                  \"VALUE (Unidade)\"]\n",
        "emplacamentos.rename(\"emplacamentos\", inplace=True)\n",
        "\n",
        "# Obtendo serie com dados sobre IPI arrecadado sobre automóveis\n",
        "ipi = ipeadatapy.timeseries('SRF12_IPIVEI12')\n",
        "ipi.reset_index(inplace=True)\n",
        "ipi = ipi.loc[(ipi[\"DATE\"] >= \"2018-01-01\") & (ipi[\"DATE\"] < \"2023-01-01\"),\n",
        "                                  \"VALUE (R$)\"]\n",
        "ipi.rename(\"ipi\", inplace=True)\n",
        "\n",
        "carros = pd.concat([emplacamentos.reset_index(drop=True),\n",
        "                    ipi.reset_index(drop=True)],\n",
        "                   axis=1)\n",
        "carros.head()"
      ]
    },
    {
      "cell_type": "markdown",
      "source": [
        "###Questão 1\n",
        "\n",
        "Dando continuidade usando os dados da AS12. Vamos relembrar o seguinte:\n",
        "\n",
        "> O número de veículos emplacados (ou seja, veículos que foram comprados novos) funciona como um indicador econômico que demonstra o poder aquisitivo da população em geral. Estes dados também são úteis como indicadores de saúde, uma vez que, uma frota mais nova, polui menos o ar e o número de casos de doenças respiratórias em grandes centros é reduzido.\n",
        "\n",
        "> O Imposto sobre Produtos Industrializados, cuja sigla é IPI, é um imposto federal, ou seja, somente a União pode instituí-lo ou modificá-lo, sobre produtos industrializados no Brasil.\n",
        "\n",
        "É possível utilizar uma regressão linear para estimar o `IPI` utilizando o `número de veículos emplacados`? Argumente utilizando alguma medida estatística para este fim.\n"
      ],
      "metadata": {
        "id": "RAg7REeatl9X"
      }
    },
    {
      "cell_type": "code",
      "source": [
        "# Questao 1\n",
        "# Existem 3 fatores que ajudam a optar pelo modelo de Regressão Linear.\n",
        "\n",
        "# 1) Linearidade: A relação entre a variável output (y) e a variável input (x) pode ser representada por uma linha reta no gráfico de dispersão.\n",
        "  # podemos verificar essa premissa fazendo  cálculo da correlação. Quanto maior a correlação entre as variáveis, mais apropriado é o uso do modelo de Regressão Linear (Para esse primeiro fator)\n",
        "carros.corr() #0.70685\n",
        "  # >>> Com uma correlação alta de 0.70685, constatamos que a primeira premissa está satisfeita.\n",
        "\n",
        "# 2) Independência: As observações são independentes uma das outras.\n",
        "  # Por exemplo, no nosso DataFrame Carros, na observação de id 30, onde a coluna IPVA indica 134.927 carros emplacados e a coluna IPI um valor de R$ 166.65\n",
        "  # nada tem a ver com a observação id 32, com 142.019 carros emplacados e um ipi de R$ 250.10\n",
        "  # uma observação não influencia na outra.\n",
        "  # >>> Com isso, constatamos que a segunda premissa está satisfeita.\n",
        "\n",
        "\n",
        "# 3) Output quantitativo contínuo: observa-se a variável y, no nosso caso o IPI, é uma variável quantitativa quantínua.\n",
        "  # >>> Com isso, constatamos que a terceira premissa está satisfeita.\n",
        "\n",
        "#  PORTANTO PODEMOS GARANTIR ROBUSTEZ E A VALIDADE E USAR O MODELO DE REGRESSÃO LINEAR\n"
      ],
      "metadata": {
        "id": "RiMfakApHzFP",
        "colab": {
          "base_uri": "https://localhost:8080/",
          "height": 112
        },
        "outputId": "3a614689-9789-4a5f-ca0a-545d48bee551"
      },
      "execution_count": 9,
      "outputs": [
        {
          "output_type": "execute_result",
          "data": {
            "text/plain": [
              "               emplacamentos      ipi\n",
              "emplacamentos        1.00000  0.70685\n",
              "ipi                  0.70685  1.00000"
            ],
            "text/html": [
              "\n",
              "  <div id=\"df-e7d8e33f-9e8f-4e40-9a7f-ed2c62cc087e\">\n",
              "    <div class=\"colab-df-container\">\n",
              "      <div>\n",
              "<style scoped>\n",
              "    .dataframe tbody tr th:only-of-type {\n",
              "        vertical-align: middle;\n",
              "    }\n",
              "\n",
              "    .dataframe tbody tr th {\n",
              "        vertical-align: top;\n",
              "    }\n",
              "\n",
              "    .dataframe thead th {\n",
              "        text-align: right;\n",
              "    }\n",
              "</style>\n",
              "<table border=\"1\" class=\"dataframe\">\n",
              "  <thead>\n",
              "    <tr style=\"text-align: right;\">\n",
              "      <th></th>\n",
              "      <th>emplacamentos</th>\n",
              "      <th>ipi</th>\n",
              "    </tr>\n",
              "  </thead>\n",
              "  <tbody>\n",
              "    <tr>\n",
              "      <th>emplacamentos</th>\n",
              "      <td>1.00000</td>\n",
              "      <td>0.70685</td>\n",
              "    </tr>\n",
              "    <tr>\n",
              "      <th>ipi</th>\n",
              "      <td>0.70685</td>\n",
              "      <td>1.00000</td>\n",
              "    </tr>\n",
              "  </tbody>\n",
              "</table>\n",
              "</div>\n",
              "      <button class=\"colab-df-convert\" onclick=\"convertToInteractive('df-e7d8e33f-9e8f-4e40-9a7f-ed2c62cc087e')\"\n",
              "              title=\"Convert this dataframe to an interactive table.\"\n",
              "              style=\"display:none;\">\n",
              "        \n",
              "  <svg xmlns=\"http://www.w3.org/2000/svg\" height=\"24px\"viewBox=\"0 0 24 24\"\n",
              "       width=\"24px\">\n",
              "    <path d=\"M0 0h24v24H0V0z\" fill=\"none\"/>\n",
              "    <path d=\"M18.56 5.44l.94 2.06.94-2.06 2.06-.94-2.06-.94-.94-2.06-.94 2.06-2.06.94zm-11 1L8.5 8.5l.94-2.06 2.06-.94-2.06-.94L8.5 2.5l-.94 2.06-2.06.94zm10 10l.94 2.06.94-2.06 2.06-.94-2.06-.94-.94-2.06-.94 2.06-2.06.94z\"/><path d=\"M17.41 7.96l-1.37-1.37c-.4-.4-.92-.59-1.43-.59-.52 0-1.04.2-1.43.59L10.3 9.45l-7.72 7.72c-.78.78-.78 2.05 0 2.83L4 21.41c.39.39.9.59 1.41.59.51 0 1.02-.2 1.41-.59l7.78-7.78 2.81-2.81c.8-.78.8-2.07 0-2.86zM5.41 20L4 18.59l7.72-7.72 1.47 1.35L5.41 20z\"/>\n",
              "  </svg>\n",
              "      </button>\n",
              "      \n",
              "  <style>\n",
              "    .colab-df-container {\n",
              "      display:flex;\n",
              "      flex-wrap:wrap;\n",
              "      gap: 12px;\n",
              "    }\n",
              "\n",
              "    .colab-df-convert {\n",
              "      background-color: #E8F0FE;\n",
              "      border: none;\n",
              "      border-radius: 50%;\n",
              "      cursor: pointer;\n",
              "      display: none;\n",
              "      fill: #1967D2;\n",
              "      height: 32px;\n",
              "      padding: 0 0 0 0;\n",
              "      width: 32px;\n",
              "    }\n",
              "\n",
              "    .colab-df-convert:hover {\n",
              "      background-color: #E2EBFA;\n",
              "      box-shadow: 0px 1px 2px rgba(60, 64, 67, 0.3), 0px 1px 3px 1px rgba(60, 64, 67, 0.15);\n",
              "      fill: #174EA6;\n",
              "    }\n",
              "\n",
              "    [theme=dark] .colab-df-convert {\n",
              "      background-color: #3B4455;\n",
              "      fill: #D2E3FC;\n",
              "    }\n",
              "\n",
              "    [theme=dark] .colab-df-convert:hover {\n",
              "      background-color: #434B5C;\n",
              "      box-shadow: 0px 1px 3px 1px rgba(0, 0, 0, 0.15);\n",
              "      filter: drop-shadow(0px 1px 2px rgba(0, 0, 0, 0.3));\n",
              "      fill: #FFFFFF;\n",
              "    }\n",
              "  </style>\n",
              "\n",
              "      <script>\n",
              "        const buttonEl =\n",
              "          document.querySelector('#df-e7d8e33f-9e8f-4e40-9a7f-ed2c62cc087e button.colab-df-convert');\n",
              "        buttonEl.style.display =\n",
              "          google.colab.kernel.accessAllowed ? 'block' : 'none';\n",
              "\n",
              "        async function convertToInteractive(key) {\n",
              "          const element = document.querySelector('#df-e7d8e33f-9e8f-4e40-9a7f-ed2c62cc087e');\n",
              "          const dataTable =\n",
              "            await google.colab.kernel.invokeFunction('convertToInteractive',\n",
              "                                                     [key], {});\n",
              "          if (!dataTable) return;\n",
              "\n",
              "          const docLinkHtml = 'Like what you see? Visit the ' +\n",
              "            '<a target=\"_blank\" href=https://colab.research.google.com/notebooks/data_table.ipynb>data table notebook</a>'\n",
              "            + ' to learn more about interactive tables.';\n",
              "          element.innerHTML = '';\n",
              "          dataTable['output_type'] = 'display_data';\n",
              "          await google.colab.output.renderOutput(dataTable, element);\n",
              "          const docLink = document.createElement('div');\n",
              "          docLink.innerHTML = docLinkHtml;\n",
              "          element.appendChild(docLink);\n",
              "        }\n",
              "      </script>\n",
              "    </div>\n",
              "  </div>\n",
              "  "
            ]
          },
          "metadata": {},
          "execution_count": 9
        }
      ]
    },
    {
      "cell_type": "code",
      "source": [
        "# Questão 1 (Cotinuação)\n",
        "# Imprimindo gráfico de dispersão para visualizar a correlação vista na Premissa 1\n",
        "carros.plot.scatter(x='emplacamentos', y='ipi')\n",
        "plt.title(\"Correlação entre Quantidade de Carros Emplacados e IPI\")\n",
        "plt.xlabel(\"Quantidade de Carros Emplacados\")\n",
        "plt.ylabel(\"IPI\")\n",
        "plt.show()"
      ],
      "metadata": {
        "colab": {
          "base_uri": "https://localhost:8080/",
          "height": 472
        },
        "id": "anv9w_Oh7AmO",
        "outputId": "34b41c9a-5844-4e86-8177-1a82fd1ba8e2"
      },
      "execution_count": 10,
      "outputs": [
        {
          "output_type": "display_data",
          "data": {
            "text/plain": [
              "<Figure size 640x480 with 1 Axes>"
            ],
            "image/png": "[encoded data removed]"
          },
          "metadata": {}
        }
      ]
    },
    {
      "cell_type": "code",
      "source": [
        "# Questao 1 (Continuação)\n",
        "\n",
        "# 2) Independência: As observações são independentes uma das outras.\n",
        "  # Por exemplo, no nosso DataFrame Carros, na observação de id 30, onde a coluna IPVA indica 134.927 carros emplacados e a coluna IPI um valor de R$ 166.65\n",
        "  # nada tem a ver com a observação id 32, com 142.019 carros emplacados e um ipi de R$ 250.10\n",
        "  # uma observação não influencia na outra.\n",
        "  # >>> Com isso, constatamos que a segunda premissa está satisfeita.\n",
        "\n",
        "\n",
        "# 3) Output quantitativo contínuo: observa-se a variável y, no nosso caso o IPI, é uma variável quantitativa quantínua.\n",
        "  # >>> Com isso, constatamos que a terceira premissa está satisfeita.\n",
        "carros['ipi'].describe()\n"
      ],
      "metadata": {
        "colab": {
          "base_uri": "https://localhost:8080/"
        },
        "id": "La53ByPL7jm9",
        "outputId": "64eeae7a-4c42-41f1-efc5-6a7951c5e1b0"
      },
      "execution_count": 14,
      "outputs": [
        {
          "output_type": "execute_result",
          "data": {
            "text/plain": [
              "count     60.000000\n",
              "mean     276.018551\n",
              "std       99.329753\n",
              "min       55.799690\n",
              "25%      204.620787\n",
              "50%      291.252952\n",
              "75%      353.526300\n",
              "max      460.560847\n",
              "Name: ipi, dtype: float64"
            ]
          },
          "metadata": {},
          "execution_count": 14
        }
      ]
    },
    {
      "cell_type": "code",
      "source": [
        "# Questao 1 (Continuação)\n",
        "\n",
        "# Imprimindo gráfico de histograma para visualizar a variável contínua vista na Premissa 3\n",
        "\n",
        "carros['ipi'].plot.hist()\n",
        "\n",
        "\n",
        "########### PORTANTO PODEMOS GARANTIR ROBUSTEZ E A VALIDADE E USAR O MODELO DE REGRESSÃO LINEAR ##########"
      ],
      "metadata": {
        "colab": {
          "base_uri": "https://localhost:8080/",
          "height": 447
        },
        "id": "4W48F8WT8N-w",
        "outputId": "4df1b63e-497b-42b0-8783-8a804e73f27e"
      },
      "execution_count": 15,
      "outputs": [
        {
          "output_type": "execute_result",
          "data": {
            "text/plain": [
              "<Axes: ylabel='Frequency'>"
            ]
          },
          "metadata": {},
          "execution_count": 15
        },
        {
          "output_type": "display_data",
          "data": {
            "text/plain": [
              "<Figure size 640x480 with 1 Axes>"
            ],
            "image/png": "[encoded data removed]"
          },
          "metadata": {}
        }
      ]
    },
    {
      "cell_type": "code",
      "source": [],
      "metadata": {
        "id": "MGDbdP3i8tuz"
      },
      "execution_count": null,
      "outputs": []
    },
    {
      "cell_type": "markdown",
      "source": [
        "**RESPOSTA: COMO TODAS AS TRÊS PREMISSAS FORAM SATISFEITAS, PODEMOS GARANTIR ROBUSTEZ E A VALIDADE AO UTILIZAR O MODELO E REGRESSÃO LINEAR**"
      ],
      "metadata": {
        "id": "oB5NK1bh8p0G"
      }
    },
    {
      "cell_type": "markdown",
      "source": [
        "###Questão 2\n",
        "\n",
        "Crie uma base de `treinamento` e de `teste` para o ajuste de um modelo linear. Utilize 70% dos dados como conjunto de treinamento.\n"
      ],
      "metadata": {
        "id": "3xNawcemugMY"
      }
    },
    {
      "cell_type": "code",
      "source": [
        "# Questao 2\n",
        "from sklearn.model_selection import train_test_split\n",
        "\n",
        "# definindo porcentagem de treino e teste\n",
        "treino, teste = train_test_split(carros, train_size=0.70, test_size=0.30)\n",
        "\n",
        "# verificando o tamanho do treino e o tamanho do teste\n",
        "print(treino.shape)\n",
        "print(teste.shape)\n",
        "\n"
      ],
      "metadata": {
        "id": "x8g4GMufHvuL",
        "colab": {
          "base_uri": "https://localhost:8080/"
        },
        "outputId": "92e894ee-27f8-4d1e-a8c1-5fb673027e26"
      },
      "execution_count": 16,
      "outputs": [
        {
          "output_type": "stream",
          "name": "stdout",
          "text": [
            "(42, 2)\n",
            "(18, 2)\n"
          ]
        }
      ]
    },
    {
      "cell_type": "markdown",
      "source": [
        "###Questão 3\n",
        "\n",
        "Treine o modelo linear utilizando a base de `treino`."
      ],
      "metadata": {
        "id": "sbXN8AoMuxvx"
      }
    },
    {
      "cell_type": "code",
      "source": [
        "# Questao 3\n",
        "from sklearn.linear_model import LinearRegression\n",
        "import statsmodels.api as sm\n",
        "\n",
        "X_treino = sm.add_constant(treino['emplacamentos'])\n",
        "y_treino = treino['ipi']\n",
        "\n",
        "reg = LinearRegression()\n",
        "\n",
        "modelo_estimado = reg.fit(X = X_treino, y = y_treino)"
      ],
      "metadata": {
        "id": "YxUJOpR2uyFh"
      },
      "execution_count": 26,
      "outputs": []
    },
    {
      "cell_type": "markdown",
      "source": [
        "###Questão 4\n",
        "\n",
        "Avalie a `performance` do modelo estimado através do **coeficiente de determinação** $R^2$.\n",
        "*    Qual percentual de variabilidade do `IPI` é explicado pelo `número de emplacamentos`?\n",
        "*    O que esse valor calculado representa?\n"
      ],
      "metadata": {
        "id": "b_9DPA3nRV0W"
      }
    },
    {
      "cell_type": "code",
      "source": [
        "# Questao 4\n",
        "# A PERFORMANCE diz o quanto o modelo está adequado aos dados\n",
        "# Em Regressão Linear utilizamos a coeficiente de determinação (R2) para medir a variância dos outputs (0 a 1)\n",
        "modelo_estimado.score(X = X_treino, y = y_treino)\n",
        "\n",
        "# Com o coeficiente de determinação (R2) de 0.479,\n",
        "# O modelo linear explica 48% da variância do IPI (output) a partir do numero de emplacamentos\n",
        "# Esse valor indica que o modelo proposto é bom em ajustar os dados\n"
      ],
      "metadata": {
        "id": "WhlmC6LESPca",
        "colab": {
          "base_uri": "https://localhost:8080/"
        },
        "outputId": "4caa9b54-5b4e-4a2d-f653-cdb016247424"
      },
      "execution_count": 27,
      "outputs": [
        {
          "output_type": "execute_result",
          "data": {
            "text/plain": [
              "0.4799645766906412"
            ]
          },
          "metadata": {},
          "execution_count": 27
        }
      ]
    },
    {
      "cell_type": "code",
      "source": [
        "# Questao 4 (continuação)\n",
        "# Interpretando os dados fazendo os coeficientes da reta\n",
        "# y = a + bx + e\n",
        "\n",
        "a = modelo_estimado.intercept_\n",
        "b = modelo_estimado.coef_[1]\n",
        "\n",
        "print(a)\n",
        "print(b)\n"
      ],
      "metadata": {
        "colab": {
          "base_uri": "https://localhost:8080/"
        },
        "id": "FkAwaPgJCUnp",
        "outputId": "2a7f3a4a-1b04-4072-d2ae-9a9a4d837b18"
      },
      "execution_count": 28,
      "outputs": [
        {
          "output_type": "stream",
          "name": "stdout",
          "text": [
            "-7.837995176811091\n",
            "0.0018989078368177542\n"
          ]
        }
      ]
    },
    {
      "cell_type": "code",
      "source": [
        "# Questao 4 (continuação)\n",
        "# Interpretando os dados fazendo os coeficientes da reta\n",
        "# y = a + bx + e\n",
        "\n",
        "# Este modelo indica que lugares com n carros emplacados tem ipi de (-7,83 + n*0,0019)\n",
        "# Exemplo: Um lugar com nenhum carro emplacado teria um IPI de -7,\n",
        "# Ao interpretar esse valor pode-se concluir que o erro pode ajudar a explicar mais o modelo,\n",
        "# visto que outros fatores para influenciar no ipi\n"
      ],
      "metadata": {
        "id": "o3OyDetmDKQH"
      },
      "execution_count": null,
      "outputs": []
    },
    {
      "cell_type": "markdown",
      "source": [
        "###Questão 5\n",
        "\n",
        "Faça a previsão para o conjunto de teste.\n",
        "*    Calcule o $R^2$ para estes resultados\n",
        "*    Faça o gráfico que exibe os dados observados e a reta estimada pelo modelo linear"
      ],
      "metadata": {
        "id": "8LNVxN-DvqpU"
      }
    },
    {
      "cell_type": "code",
      "source": [
        "# Questao 5\n",
        "\n",
        "X_teste = sm.add_constant(teste['emplacamentos'])\n",
        "y_teste = teste['ipi']\n",
        "\n",
        "previsao = modelo_estimado.predict(X = X_teste)\n",
        "print(previsao)\n",
        "\n"
      ],
      "metadata": {
        "id": "L6rN0nSwJyl0",
        "colab": {
          "base_uri": "https://localhost:8080/"
        },
        "outputId": "b45ba12b-5561-46da-bd75-09f2184b3b7e"
      },
      "execution_count": 29,
      "outputs": [
        {
          "output_type": "stream",
          "name": "stdout",
          "text": [
            "[320.37303315 288.6422832  241.35568025 361.73884147 234.14172938\n",
            " 167.24890301 364.16754459  75.96650439 226.81574294 303.88671532\n",
            " 261.8429969  219.64736586 231.32564905 364.02132869 302.62773942\n",
            " 329.31309125 298.02098901 315.83084561]\n"
          ]
        }
      ]
    },
    {
      "cell_type": "code",
      "source": [
        "# Questao 5 (continuação)\n",
        "\n",
        "modelo_estimado.score(X=X_teste, y = y_teste)\n",
        "\n",
        "# Para os testes o coeficiente de determinação (R2) foi de 0,51.\n",
        "# Isso significa que 51% de variabilidade do IPI é explicado pelo número de emplacamentos nos testes\n",
        "# Esse valor confirma que o modelo proposto é bom em ajustar os dados"
      ],
      "metadata": {
        "colab": {
          "base_uri": "https://localhost:8080/"
        },
        "id": "VXqz7v1JHXRx",
        "outputId": "bbd8ab2c-e4be-429a-ae52-48d798f009d7"
      },
      "execution_count": 30,
      "outputs": [
        {
          "output_type": "execute_result",
          "data": {
            "text/plain": [
              "0.5125755517614118"
            ]
          },
          "metadata": {},
          "execution_count": 30
        }
      ]
    },
    {
      "cell_type": "code",
      "source": [
        "# Questao 5 (continuação)\n",
        "import numpy as np\n",
        "\n",
        "teste.plot.scatter(x='emplacamentos', y='ipi', label='Observado')\n",
        "\n",
        "x_prev = np.linspace(teste['emplacamentos'].min(), teste['emplacamentos'].max(), 100).reshape(-1, 1)\n",
        "y_prev = a + b * x_prev\n",
        "\n",
        "plt.plot(x_prev, y_prev, color='red', label='Modelo Estimado')\n",
        "\n",
        "plt.xlabel(\"Emplacamentos\")\n",
        "plt.ylabel(\"IPI\")\n",
        "plt.title(\"Conjunto de Teste\")\n",
        "\n",
        "plt.legend()\n",
        "\n",
        "plt.show()\n",
        "\n"
      ],
      "metadata": {
        "colab": {
          "base_uri": "https://localhost:8080/",
          "height": 472
        },
        "id": "uTlN2GflHTYA",
        "outputId": "94822e86-556e-4c33-c8f5-35961d77d227"
      },
      "execution_count": 32,
      "outputs": [
        {
          "output_type": "display_data",
          "data": {
            "text/plain": [
              "<Figure size 640x480 with 1 Axes>"
            ],
            "image/png": "[encoded data removed]"
          },
          "metadata": {}
        }
      ]
    },
    {
      "cell_type": "code",
      "source": [],
      "metadata": {
        "id": "PSMp0DjkJRBT"
      },
      "execution_count": null,
      "outputs": []
    }
  ]
}